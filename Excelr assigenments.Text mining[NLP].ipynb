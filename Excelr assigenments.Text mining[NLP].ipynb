{
 "cells": [
  {
   "cell_type": "code",
   "execution_count": 1,
   "id": "9ba03649",
   "metadata": {},
   "outputs": [],
   "source": [
    "import pandas as pd\n",
    "import numpy as np"
   ]
  },
  {
   "cell_type": "markdown",
   "id": "f9ec1b75",
   "metadata": {},
   "source": [
    "# Q1   1) Perform sentimental analysis on the Elon-musk tweets (Exlon-musk.csv)\n"
   ]
  },
  {
   "cell_type": "code",
   "execution_count": 2,
   "id": "2a80b916",
   "metadata": {},
   "outputs": [
    {
     "data": {
      "text/html": [
       "<div>\n",
       "<style scoped>\n",
       "    .dataframe tbody tr th:only-of-type {\n",
       "        vertical-align: middle;\n",
       "    }\n",
       "\n",
       "    .dataframe tbody tr th {\n",
       "        vertical-align: top;\n",
       "    }\n",
       "\n",
       "    .dataframe thead th {\n",
       "        text-align: right;\n",
       "    }\n",
       "</style>\n",
       "<table border=\"1\" class=\"dataframe\">\n",
       "  <thead>\n",
       "    <tr style=\"text-align: right;\">\n",
       "      <th></th>\n",
       "      <th>Unnamed: 0</th>\n",
       "      <th>Text</th>\n",
       "    </tr>\n",
       "  </thead>\n",
       "  <tbody>\n",
       "    <tr>\n",
       "      <th>0</th>\n",
       "      <td>1</td>\n",
       "      <td>@kunalb11 Im an alien</td>\n",
       "    </tr>\n",
       "    <tr>\n",
       "      <th>1</th>\n",
       "      <td>2</td>\n",
       "      <td>@ID_AA_Carmack Ray tracing on Cyberpunk with H...</td>\n",
       "    </tr>\n",
       "    <tr>\n",
       "      <th>2</th>\n",
       "      <td>3</td>\n",
       "      <td>@joerogan @Spotify Great interview!</td>\n",
       "    </tr>\n",
       "    <tr>\n",
       "      <th>3</th>\n",
       "      <td>4</td>\n",
       "      <td>@gtera27 Doge is underestimated</td>\n",
       "    </tr>\n",
       "    <tr>\n",
       "      <th>4</th>\n",
       "      <td>5</td>\n",
       "      <td>@teslacn Congratulations Tesla China for amazi...</td>\n",
       "    </tr>\n",
       "    <tr>\n",
       "      <th>...</th>\n",
       "      <td>...</td>\n",
       "      <td>...</td>\n",
       "    </tr>\n",
       "    <tr>\n",
       "      <th>1994</th>\n",
       "      <td>1995</td>\n",
       "      <td>@flcnhvy True, it sounds so surreal, but the n...</td>\n",
       "    </tr>\n",
       "    <tr>\n",
       "      <th>1995</th>\n",
       "      <td>1996</td>\n",
       "      <td>@PPathole Make sure to read ur terms &amp;amp; con...</td>\n",
       "    </tr>\n",
       "    <tr>\n",
       "      <th>1996</th>\n",
       "      <td>1997</td>\n",
       "      <td>@TeslaGong @PPathole Samwise Gamgee</td>\n",
       "    </tr>\n",
       "    <tr>\n",
       "      <th>1997</th>\n",
       "      <td>1998</td>\n",
       "      <td>@PPathole Altho Dumb and Dumber is &lt;U+0001F525...</td>\n",
       "    </tr>\n",
       "    <tr>\n",
       "      <th>1998</th>\n",
       "      <td>1999</td>\n",
       "      <td>Progress update August 28</td>\n",
       "    </tr>\n",
       "  </tbody>\n",
       "</table>\n",
       "<p>1999 rows × 2 columns</p>\n",
       "</div>"
      ],
      "text/plain": [
       "      Unnamed: 0                                               Text\n",
       "0              1                             @kunalb11 Im an alien\n",
       "1              2  @ID_AA_Carmack Ray tracing on Cyberpunk with H...\n",
       "2              3                @joerogan @Spotify Great interview!\n",
       "3              4                    @gtera27 Doge is underestimated\n",
       "4              5  @teslacn Congratulations Tesla China for amazi...\n",
       "...          ...                                                ...\n",
       "1994        1995  @flcnhvy True, it sounds so surreal, but the n...\n",
       "1995        1996  @PPathole Make sure to read ur terms &amp; con...\n",
       "1996        1997                @TeslaGong @PPathole Samwise Gamgee\n",
       "1997        1998  @PPathole Altho Dumb and Dumber is <U+0001F525...\n",
       "1998        1999                          Progress update August 28\n",
       "\n",
       "[1999 rows x 2 columns]"
      ]
     },
     "execution_count": 2,
     "metadata": {},
     "output_type": "execute_result"
    }
   ],
   "source": [
    "df = pd.read_csv(r\"C:\\Users\\shiva\\Downloads\\Elon_musk.csv\",encoding='iso-8859-1')\n",
    "df"
   ]
  },
  {
   "cell_type": "code",
   "execution_count": 3,
   "id": "1526bba7",
   "metadata": {},
   "outputs": [
    {
     "name": "stdout",
     "output_type": "stream",
     "text": [
      "(1999, 2)\n"
     ]
    },
    {
     "data": {
      "text/html": [
       "<div>\n",
       "<style scoped>\n",
       "    .dataframe tbody tr th:only-of-type {\n",
       "        vertical-align: middle;\n",
       "    }\n",
       "\n",
       "    .dataframe tbody tr th {\n",
       "        vertical-align: top;\n",
       "    }\n",
       "\n",
       "    .dataframe thead th {\n",
       "        text-align: right;\n",
       "    }\n",
       "</style>\n",
       "<table border=\"1\" class=\"dataframe\">\n",
       "  <thead>\n",
       "    <tr style=\"text-align: right;\">\n",
       "      <th></th>\n",
       "      <th>Unnamed: 0</th>\n",
       "      <th>Text</th>\n",
       "    </tr>\n",
       "  </thead>\n",
       "  <tbody>\n",
       "    <tr>\n",
       "      <th>0</th>\n",
       "      <td>1</td>\n",
       "      <td>@kunalb11 Im an alien</td>\n",
       "    </tr>\n",
       "    <tr>\n",
       "      <th>1</th>\n",
       "      <td>2</td>\n",
       "      <td>@ID_AA_Carmack Ray tracing on Cyberpunk with H...</td>\n",
       "    </tr>\n",
       "    <tr>\n",
       "      <th>2</th>\n",
       "      <td>3</td>\n",
       "      <td>@joerogan @Spotify Great interview!</td>\n",
       "    </tr>\n",
       "    <tr>\n",
       "      <th>3</th>\n",
       "      <td>4</td>\n",
       "      <td>@gtera27 Doge is underestimated</td>\n",
       "    </tr>\n",
       "    <tr>\n",
       "      <th>4</th>\n",
       "      <td>5</td>\n",
       "      <td>@teslacn Congratulations Tesla China for amazi...</td>\n",
       "    </tr>\n",
       "  </tbody>\n",
       "</table>\n",
       "</div>"
      ],
      "text/plain": [
       "   Unnamed: 0                                               Text\n",
       "0           1                             @kunalb11 Im an alien\n",
       "1           2  @ID_AA_Carmack Ray tracing on Cyberpunk with H...\n",
       "2           3                @joerogan @Spotify Great interview!\n",
       "3           4                    @gtera27 Doge is underestimated\n",
       "4           5  @teslacn Congratulations Tesla China for amazi..."
      ]
     },
     "execution_count": 3,
     "metadata": {},
     "output_type": "execute_result"
    }
   ],
   "source": [
    "Elon_musk_df = df[['Unnamed: 0','Text']]\n",
    "print(Elon_musk_df.shape)\n",
    "Elon_musk_df.head()"
   ]
  },
  {
   "cell_type": "code",
   "execution_count": 4,
   "id": "49e3f601",
   "metadata": {},
   "outputs": [
    {
     "name": "stdout",
     "output_type": "stream",
     "text": [
      "(1999, 2)\n"
     ]
    },
    {
     "data": {
      "text/html": [
       "<div>\n",
       "<style scoped>\n",
       "    .dataframe tbody tr th:only-of-type {\n",
       "        vertical-align: middle;\n",
       "    }\n",
       "\n",
       "    .dataframe tbody tr th {\n",
       "        vertical-align: top;\n",
       "    }\n",
       "\n",
       "    .dataframe thead th {\n",
       "        text-align: right;\n",
       "    }\n",
       "</style>\n",
       "<table border=\"1\" class=\"dataframe\">\n",
       "  <thead>\n",
       "    <tr style=\"text-align: right;\">\n",
       "      <th></th>\n",
       "      <th>Unnamed: 0</th>\n",
       "      <th>Text</th>\n",
       "    </tr>\n",
       "  </thead>\n",
       "  <tbody>\n",
       "    <tr>\n",
       "      <th>0</th>\n",
       "      <td>1</td>\n",
       "      <td>@kunalb11 Im an alien</td>\n",
       "    </tr>\n",
       "    <tr>\n",
       "      <th>1</th>\n",
       "      <td>2</td>\n",
       "      <td>@ID_AA_Carmack Ray tracing on Cyberpunk with H...</td>\n",
       "    </tr>\n",
       "    <tr>\n",
       "      <th>2</th>\n",
       "      <td>3</td>\n",
       "      <td>@joerogan @Spotify Great interview!</td>\n",
       "    </tr>\n",
       "    <tr>\n",
       "      <th>3</th>\n",
       "      <td>4</td>\n",
       "      <td>@gtera27 Doge is underestimated</td>\n",
       "    </tr>\n",
       "    <tr>\n",
       "      <th>4</th>\n",
       "      <td>5</td>\n",
       "      <td>@teslacn Congratulations Tesla China for amazi...</td>\n",
       "    </tr>\n",
       "  </tbody>\n",
       "</table>\n",
       "</div>"
      ],
      "text/plain": [
       "   Unnamed: 0                                               Text\n",
       "0           1                             @kunalb11 Im an alien\n",
       "1           2  @ID_AA_Carmack Ray tracing on Cyberpunk with H...\n",
       "2           3                @joerogan @Spotify Great interview!\n",
       "3           4                    @gtera27 Doge is underestimated\n",
       "4           5  @teslacn Congratulations Tesla China for amazi..."
      ]
     },
     "execution_count": 4,
     "metadata": {},
     "output_type": "execute_result"
    }
   ],
   "source": [
    "Elon_musk_df = Elon_musk_df[Elon_musk_df['Text'] != 'neutral']\n",
    "print(Elon_musk_df.shape)\n",
    "Elon_musk_df.head()"
   ]
  },
  {
   "cell_type": "code",
   "execution_count": 5,
   "id": "a8315328",
   "metadata": {},
   "outputs": [
    {
     "data": {
      "text/plain": [
       "(array([   0,    1,    2, ..., 1994, 1995, 1996], dtype=int64),\n",
       " Index(['@kunalb11 Im an alien',\n",
       "        '@ID_AA_Carmack Ray tracing on Cyberpunk with HDR is next-level. Have you tried it?',\n",
       "        '@joerogan @Spotify Great interview!',\n",
       "        '@gtera27 Doge is underestimated',\n",
       "        '@teslacn Congratulations Tesla China for amazing execution last year. Now on to the next for even more!!',\n",
       "        'Happy New Year of the Ox! https://t.co/9WFKMYu2oj',\n",
       "        'Frodo was the underdoge,\\nAll thought he would fail,\\nHimself most of all. https://t.co/zGxJFDzzrM',\n",
       "        '@OwenSparks_ @flcnhvy @anonyx10 Haha thanks :)',\n",
       "        '@flcnhvy @anonyx10 Indeed! Tweets definitely do not represent real-world time allocation.',\n",
       "        'The most entertaining outcome is the most likely',\n",
       "        ...\n",
       "        '@buzzindelhi Sorry, should hopefully be soon!',\n",
       "        '@kenyanwalstreet Not actually a payout, just a vesting of stock options. It may never pay out, as the stock cant b\n",
       "  https://t.co/8Zg37STXT9',\n",
       "        '@IheartTesla No easy way to answer this in a tweet, but helping with dire brain injuries is our first priority. Details Aug 28.',\n",
       "        'AI symbiosis while u wait',\n",
       "        '@vistacruiser7 @flcnhvy Theres some of that too',\n",
       "        '@flcnhvy True, it sounds so surreal, but the negative propaganda is still all out there &amp; easy to find in social me\n",
       "  https://t.co/WJRzIbKh1H',\n",
       "        '@PPathole Make sure to read ur terms &amp; conditions before clicking accept!',\n",
       "        '@TeslaGong @PPathole Samwise Gamgee',\n",
       "        '@PPathole Altho Dumb and Dumber is <U+0001F525><U+0001F525>',\n",
       "        'Progress update August 28'],\n",
       "       dtype='object', length=1997))"
      ]
     },
     "execution_count": 5,
     "metadata": {},
     "output_type": "execute_result"
    }
   ],
   "source": [
    "sentiment_label = Elon_musk_df.Text.factorize()\n",
    "sentiment_label"
   ]
  },
  {
   "cell_type": "code",
   "execution_count": 6,
   "id": "2b749227",
   "metadata": {},
   "outputs": [
    {
     "data": {
      "text/plain": [
       "1999"
      ]
     },
     "execution_count": 6,
     "metadata": {},
     "output_type": "execute_result"
    }
   ],
   "source": [
    "len(Elon_musk_df['Text'])"
   ]
  },
  {
   "cell_type": "code",
   "execution_count": 7,
   "id": "daea7a6d",
   "metadata": {},
   "outputs": [
    {
     "name": "stdout",
     "output_type": "stream",
     "text": [
      "WARNING:tensorflow:From C:\\Users\\shiva\\anaconda3\\Lib\\site-packages\\keras\\src\\losses.py:2976: The name tf.losses.sparse_softmax_cross_entropy is deprecated. Please use tf.compat.v1.losses.sparse_softmax_cross_entropy instead.\n",
      "\n"
     ]
    }
   ],
   "source": [
    "from tensorflow.keras.preprocessing.text import Tokenizer\n",
    "from tensorflow.keras.preprocessing.sequence import pad_sequences\n",
    "from tensorflow.keras.models import Sequential\n",
    "from tensorflow.keras.layers import LSTM,Dense, Dropout, SpatialDropout1D\n",
    "from tensorflow.keras.layers import Embedding"
   ]
  },
  {
   "cell_type": "code",
   "execution_count": 8,
   "id": "0bb90e6c",
   "metadata": {},
   "outputs": [
    {
     "name": "stdout",
     "output_type": "stream",
     "text": [
      "['@kunalb11 I\\x92m an alien'\n",
      " '@ID_AA_Carmack Ray tracing on Cyberpunk with HDR is next-level. Have you tried it?'\n",
      " '@joerogan @Spotify Great interview!' ...\n",
      " '@TeslaGong @PPathole Samwise Gamgee'\n",
      " '@PPathole Altho Dumb and Dumber is <U+0001F525><U+0001F525>'\n",
      " 'Progress update August 28']\n",
      "[[   0    0    0 ...  202   62 1318]\n",
      " [   0    0    0 ...   31  535   19]\n",
      " [   0    0    0 ... 2101   36  955]\n",
      " ...\n",
      " [   0    0    0 ...    0  671   25]\n",
      " [   0    0    0 ...  200    8  200]\n",
      " [   0    0    0 ...  600 1298 1285]]\n"
     ]
    }
   ],
   "source": [
    "Elon_musk = Elon_musk_df.Text.values\n",
    "print(Elon_musk)\n",
    "tokenizer = Tokenizer(num_words=5000)\n",
    "tokenizer.fit_on_texts(Elon_musk )\n",
    "\n",
    "vocab_size = len(tokenizer.word_index) + 1\n",
    "\n",
    "encoded_docs = tokenizer.texts_to_sequences(Elon_musk )\n",
    "\n",
    "padded_sequence = pad_sequences(encoded_docs, maxlen=200)\n",
    "print(padded_sequence)"
   ]
  },
  {
   "cell_type": "code",
   "execution_count": 9,
   "id": "e0536a51",
   "metadata": {},
   "outputs": [
    {
     "name": "stdout",
     "output_type": "stream",
     "text": [
      "{'t': 1, 'https': 2, 'co': 3, 'the': 4, 'to': 5, 'is': 6, 'a': 7, 'u': 8, 'of': 9, 'spacex': 10, 'amp': 11, 'in': 12, 'for': 13, 'tesla': 14, 'will': 15, 'be': 16, 'erdayastronaut': 17, 'this': 18, 'it': 19, 'we': 20, 'on': 21, 'that': 22, 'rt': 23, 'but': 24, 'ppathole': 25, 'i': 26, 'flcnhvy': 27, 'with': 28, 'are': 29, 'at': 30, 'you': 31, 'yes': 32, 'and': 33, 'not': 34, '0001f923': 35, 'great': 36, 'have': 37, 'was': 38, 'teslaownerssv': 39, '\\x85': 40, 'from': 41, 'as': 42, 'wholemarsblog': 43, 'just': 44, 'so': 45, 'no': 46, 'teslarati': 47, 'has': 48, 'more': 49, 'haha': 50, 'nasaspaceflight': 51, 'all': 52, 'it\\x92s': 53, 'space': 54, 'good': 55, 'should': 56, 'launch': 57, 'than': 58, 'sure': 59, 'my': 60, 'or': 61, 'an': 62, 'can': 63, 'out': 64, 'yeah': 65, 'if': 66, 'much': 67, 'cleantechnica': 68, 'would': 69, 'some': 70, 'first': 71, 'about': 72, 'do': 73, 'one': 74, 'like': 75, 'there': 76, 'too': 77, 'by': 78, 'true': 79, 'kristennetten': 80, 'probably': 81, 'they': 82, 'our': 83, 'high': 84, '1': 85, 'nasa': 86, 'rationaletienne': 87, 'also': 88, 'station': 89, 'new': 90, 'most': 91, 'what': 92, '3': 93, 'make': 94, 'engineers': 95, 'id': 96, 'aa': 97, 'carmack': 98, 'year': 99, 'people': 100, 'dragon': 101, 'marcushousegame': 102, 'crew': 103, 'starship': 104, 'feed': 105, 'next': 106, 'need': 107, 'production': 108, 'maybe': 109, 'falcon': 110, 'enough': 111, 'now': 112, 'he': 113, 'your': 114, 'only': 115, 'ercxspace': 116, 'very': 117, 'model': 118, 'evafoxu': 119, 'still': 120, 'we\\x92re': 121, 'soon': 122, 'ajtourville': 123, 'coming': 124, 'best': 125, 'time': 126, 'earth': 127, '2': 128, 'lot': 129, 'few': 130, 'com': 131, 'could': 132, 'mission': 133, 'work': 134, 'lexfridman': 135, 'long': 136, 'day': 137, 'right': 138, 'thesheetztweetz': 139, 'flight': 140, 'tesmanian': 141, 'exactly': 142, 'well': 143, 'go': 144, 'get': 145, '9': 146, 'ai': 147, 'better': 148, 'pretty': 149, 'tobyliiiiiiiiii': 150, 'actually': 151, 'up': 152, 'felixschlang': 153, 'austinbarnard45': 154, 'even': 155, 'astro': 156, 'future': 157, 'engines': 158, 'point': 159, 'test': 160, 'life': 161, 'way': 162, 'thanks': 163, 'mars': 164, 'that\\x92s': 165, 'booster': 166, 'years': 167, 'neuralink': 168, 'me': 169, 'fsd': 170, 'tashaark': 171, 'starlink': 172, 'back': 173, 'landing': 174, 'us': 175, 'super': 176, 'hard': 177, 'don\\x92t': 178, 'many': 179, 'ok': 180, 'icannot': 181, 'fe0f': 182, 'their': 183, 'berniesanders': 184, 'use': 185, 'engine': 186, 'working': 187, 'engineering': 188, 'ever': 189, 'other': 190, 'when': 191, 'orbit': 192, 'down': 193, '5': 194, 'car': 195, 'week': 196, 'into': 197, 'c': 198, 'djsnm': 199, '0001f525': 200, 'cool': 201, 'i\\x92m': 202, 'wow': 203, 'its': 204, 'were': 205, 'then': 206, 'love': 207, 'cars': 208, 'absolutely': 209, 'rocket': 210, '4': 211, 'times': 212, 'think': 213, 'beta': 214, 'pcgamer': 215, 'doug': 216, 'over': 217, 'team': 218, 'doesn\\x92t': 219, 'giga': 220, 'berlin': 221, 'version': 222, 'can\\x92t': 223, 'little': 224, 'days': 225, 'bar': 226, 'had': 227, 'far': 228, 'jgrano305': 229, 'bocachicagal': 230, 'lab': 231, 'samtalkstesla': 232, 'neopork85': 233, 'astrobehnken': 234, 'astrojordy': 235, 'two': 236, 'made': 237, 'yup': 238, 'how': 239, 'needed': 240, 'might': 241, 'big': 242, 'important': 243, 'design': 244, 'stage': 245, 'energy': 246, 'really': 247, 'possible': 248, 'done': 249, 'waitbutwhy': 250, 'definitely': 251, 'real': 252, 'likely': 253, 'cost': 254, 'take': 255, 'mass': 256, 'who': 257, 'going': 258, '20': 259, 'game': 260, 'part': 261, 's': 262, 'software': 263, 'doing': 264, 'support': 265, 'almost': 266, 'mkbhd': 267, 'astronauts': 268, 'fire': 269, 'accurate': 270, 'raptor': 271, 'which': 272, 'video': 273, 'come': 274, 'theonion': 275, 'low': 276, 'hopefully': 277, 'term': 278, 'small': 279, 'after': 280, 'pressure': 281, 'tomorrow': 282, 'although': 283, 'these': 284, 'range': 285, 'been': 286, 'justpaulinelol': 287, 'boca': 288, 'want': 289, 'sn8': 290, 'universal': 291, 'waemd': 292, 'last': 293, 'once': 294, 'off': 295, 'you\\x92re': 296, 'thebabylonbee': 297, '0001f5a4': 298, 'renatakonkoly': 299, '\\x96': 300, 'safety': 301, 'those': 302, 'human': 303, 'sounds': 304, 'improvements': 305, 'month': 306, 'nextspaceflight': 307, 'money': 308, 'boringcompany': 309, 'something': 310, 'volume': 311, 'confirmed': 312, 'cargo': 313, 'electric': 314, 'dojo': 315, 'quite': 316, 'did': 317, 'autopilot': 318, 'max': 319, 'slow': 320, 'looks': 321, 'both': 322, 'rweb11742': 323, 'bass3d': 324, 'flaps': 325, 'sci': 326, 'y': 327, 'teslaratiteam': 328, 'congratulations': 329, 'amazing': 330, 'please': 331, 'power': 332, 'any': 333, 'needs': 334, 'through': 335, 'product': 336, 'ship': 337, 'univercurious': 338, '60': 339, 'satellites': 340, 'start': 341, 'own': 342, 'while': 343, 'early': 344, 'them': 345, '\\x97': 346, 'making': 347, '28delayslater': 348, 'release': 349, 'trevormahlmann': 350, 'less': 351, 'today': 352, 'driving': 353, 'mostly': 354, 'bad': 355, 'tunnel': 356, '9\\x92s': 357, 'droneship': 358, 'gerberkawasaki': 359, 'janeidyeve': 360, 'full': 361, 'm': 362, 'johnkrausphotos': 363, 'skorusark': 364, 'static': 365, 'legs': 366, 'being': 367, 'problems': 368, 'futurejurvetson': 369, 'fairing': 370, 'nothing': 371, 'slashdot': 372, 'pcr': 373, 'testing': 374, 'michaelmina': 375, 'different': 376, 'body': 377, 'jwangark': 378, 'level': 379, 'doge': 380, 'owensparks': 381, 'seems': 382, 'bit': 383, 'may': 384, 'stock': 385, 'seem': 386, 'orbital': 387, 'fun': 388, 'easy': 389, 'grimezsz': 390, 'thing': 391, 'josh': 392, 'bickett': 393, 'said': 394, 'land': 395, 'ur': 396, 'watch': 397, 'progress': 398, 'close': 399, 'fast': 400, 'used': 401, 'rgvaerialphotos': 402, 'companies': 403, 'makes': 404, 'here': 405, 'major': 406, 'months': 407, 'public': 408, 'self': 409, 'between': 410, 'say': 411, 'number': 412, 'under': 413, 'until': 414, 'fully': 415, 'teslatino': 416, 'superclusterhq': 417, 'zero': 418, '10': 419, 'appreciated': 420, 'archillect': 421, 'they\\x92re': 422, 'spacepadreisle': 423, 't\\x85': 424, 'jack': 425, 'build': 426, 'sense': 427, 'wintonark': 428, 'know': 429, 'mit': 430, 'flights': 431, 'why': 432, 'enn': 433, 'nafnlaus': 434, 'feel': 435, 'tbh': 436, 'operational': 437, 'several': 438, 'note': 439, 'spacexstarlink': 440, 'ihearttesla': 441, 'thought': 442, 'world': 443, 'getting': 444, 'give': 445, 'heavy': 446, 'adamklotz': 447, 'does': 448, 'improve': 449, '7': 450, '0001f495': 451, 'old': 452, 'name': 453, 'essential': 454, 'solution': 455, 'data': 456, 'launches': 457, 'pad': 458, 'where': 459, 'am': 460, 'try': 461, '2192': 462, 'commercial': 463, 'sn9': 464, 'live': 465, 'johnnacrider1': 466, 'products': 467, 'fine': 468, 'dmc': 469, 'ryan': 470, 'roadster': 471, 'gfilche': 472, 'there\\x92s': 473, 'play': 474, 'system': 475, 'sorry': 476, 'spacex\\x92s': 477, 'landed': 478, 'course': 479, 'liftoff': 480, 'problem': 481, 'elonsworld': 482, 'battery': 483, 'fundamental': 484, 'awesome': 485, 'texas': 486, 'three': 487, 'completed': 488, 'help': 489, 'move': 490, 'every': 491, 'already': 492, 'around': 493, 'air': 494, 'potential': 495, 'because': 496, 's\\x85': 497, 'home': 498, 'inc': 499, 'karpathy': 500, 'everything': 501, 'such': 502, 'turns': 503, 'a\\x85': 504, 'heydave7': 505, 'safe': 506, 'slightly': 507, 'cyberpunkgame': 508, 'imo': 509, 'original': 510, 'before': 511, 'cold': 512, 'training': 513, 'things': 514, 'propellant': 515, 'vincent13031925': 516, 'dragon\\x92s': 517, 'fly': 518, 'cov2': 519, 'didn\\x92t': 520, 'machine': 521, 'whatsupfranks': 522, 'neuro': 523, 'skeptic': 524, 'caspar': 525, 'stanley': 526, 'see': 527, 'model3owners': 528, 'single': 529, 'put': 530, 'toadmeister': 531, 'mike': 532, 'raytech247': 533, 'schristakos': 534, 'tried': 535, 'indeed': 536, 'agree': 537, 'deep': 538, 'per': 539, 'same': 540, 'price': 541, 'difference': 542, 'extremely': 543, '0001f3b6': 544, 'read': 545, 'second': 546, 'least': 547, 'welcome': 548, '043b': 549, 'access': 550, 'feels': 551, 'short': 552, 'brain': 553, 'la': 554, 'lrocket': 555, 'never': 556, 'hope': 557, 'westcoastbill': 558, 'bs': 559, 'using': 560, '0': 561, 'speed': 562, 'top': 563, 'alex': 564, '30': 565, 'sciguyspace': 566, 'technology': 567, 'rate': 568, 'trying': 569, 'looking': 570, 'glad': 571, 'benmezrich': 572, 'call': 573, 'hours': 574, 'physics': 575, 'completing': 576, 'separation': 577, '043e': 578, 'parts': 579, 'ago': 580, 'song': 581, 'travel': 582, 'solar': 583, 'critical': 584, 'matter': 585, 'isn\\x92t': 586, 'vehicle': 587, 'movie': 588, 'called': 589, 'worth': 590, 'half': 591, 'open': 592, 'head': 593, 'spacenews': 594, 'is\\x85': 595, 'able': 596, 'in\\x85': 597, 'sound': 598, 'change': 599, 'update': 600, 'of\\x85': 601, 'impressive': 602, 'truth': 603, 'view': 604, 'wait': 605, 'south': 606, 'got': 607, 'control': 608, 'near': 609, 'night': 610, '40': 611, 'person': 612, 'irony': 613, '6': 614, 'another': 615, 'steel': 616, 'curevac': 617, 'symptoms': 618, 'minutes': 619, 'c\\x85': 620, 'tests': 621, 'required': 622, 'hear': 623, 'we\\x92ll': 624, 'especially': 625, 'left': 626, 'mins': 627, 'nosecone': 628, 'wanationalguard': 629, 'ulalaunch': 630, 'soumiksf': 631, 'sn5': 632, 'government': 633, 'tlowdon': 634, 'ethicalskeptic': 635, 'bbcsciencenews': 636, 'cyberpunk': 637, 'china': 638, 'happy': 639, 'must': 640, 'meant': 641, 'fixed': 642, 'tonight': 643, 'wonderofscience': 644, 'hot': 645, 'gas': 646, 'brendan2908': 647, 'million': 648, 'tough': 649, 'twitter': 650, '0435': 651, 'worked': 652, 'targeting': 653, 'earlier': 654, 'article': 655, 'talk': 656, 'shot': 657, 'hold': 658, '0001f440': 659, 'literally': 660, 'useful': 661, 'without': 662, 'wild': 663, 'review': 664, 'entire': 665, 'labeling': 666, 'inference': 667, 'crazy': 668, 'moving': 669, 'camera': 670, 'teslagong': 671, 'happening': 672, 'due': 673, 'arstechnica': 674, 'wide': 675, 'lots': 676, 'civilization': 677, 'cell': 678, 'traffic': 679, 'giant': 680, 'cybertruck': 681, 'show': 682, 'positive': 683, 'splashdown': 684, '\\x94': 685, 'faster': 686, 'factory': 687, 'signal': 688, 'later': 689, 'building': 690, 'h\\x85': 691, 'his': 692, 'technically': 693, 'always': 694, 'eugenelee3': 695, 'gt': 696, 'moon': 697, '2020': 698, 'comma': 699, 'above': 700, 'again': 701, 'tank': 702, 'step': 703, 'snake': 704, 'total': 705, 'bigger': 706, 'roughly': 707, 'interesting': 708, 'company': 709, 'mind': 710, 'heart': 711, 'main': 712, 'liquid': 713, 'below': 714, 'thrust': 715, 'vs': 716, 'impossible': 717, 'cooling': 718, 'tiles': 719, 'agreed': 720, 'thank': 721, 'chance': 722, 'et': 723, 'spacecraft': 724, '100': 725, 'news': 726, 'ft': 727, 'yet': 728, 'complete': 729, 'ocean': 730, 'mirojurcevic': 731, 'astronomiaum': 732, 'lt': 733, 'took': 734, 'extreme': 735, 'm\\x85': 736, 'bluemoondance74': 737, 'ryaneshea': 738, 'prior': 739, 'false': 740, 'nickhenning3d': 741, 'send': 742, 'realdonaldtrump': 743, 'appreciate': 744, 'each': 745, 'peterdog15': 746, 'scale': 747, 'i\\x92ve': 748, '50': 749, 'avoigt': 750, 'favorite': 751, 'lithium': 752, 'plasma': 753, 'vehicles': 754, '000': 755, 'marlonsix60': 756, 'samiralyateem': 757, 'penn': 758, 'torybruno': 759, 'cnunezimages': 760, 'spaceintellige3': 761, 'maureendowd': 762, 'x': 763, 'freewalletorg': 764, 'won\\x92t': 765, 'together': 766, 'flow': 767, 'however': 768, 'pass': 769, 'negative': 770, 'carbon': 771, 'value': 772, 'everyone': 773, 'raptors': 774, 'let': 775, 'story': 776, 'clear': 777, 'higher': 778, '300': 779, '39a': 780, 'risk': 781, 'dumb': 782, 'art': 783, 'phones': 784, 'symbiosis': 785, 'tj': 786, 'cooney': 787, '0001f680': 788, 'services': 789, 'itself': 790, 'matters': 791, 'sell': 792, 'starts': 793, 'aiming': 794, 'incredible': 795, 'drive': 796, 'direction': 797, 'rear': 798, 'gone': 799, 'approval': 800, 'th\\x85': 801, '8': 802, 'launched': 803, 'fallout': 804, 'vegas': 805, 'reliable': 806, '0001f4af': 807, 'minor': 808, 'launching': 809, 'water': 810, 'details': 811, 'mean': 812, 'casting': 813, 'size': 814, 'medical': 815, 'p': 816, 'wikipedia': 817, 'nice': 818, 'resupply': 819, 'goal': 820, 'star': 821, 'background': 822, 'away': 823, 'austinteslaclub': 824, 'primarily': 825, 'roof': 826, 'base': 827, 'increase': 828, 'large': 829, 'ch4': 830, 'unfortunately': 831, 'strange': 832, '0001f609': 833, 'works': 834, 'average': 835, 'biogirl09': 836, 'header': 837, 'came': 838, 'harsimranbansal': 839, 'mark': 840, 'add': 841, 'cake': 842, 'stop': 843, 'end': 844, 'focus': 845, 'service': 846, 'successful': 847, 'dirtytesla': 848, '11': 849, 'canada': 850, 'setting': 851, 'music': 852, 'except': 853, 'general': 854, 'owners': 855, 'idea': 856, 'goes': 857, 'sigh': 858, 'having': 859, 'word': 860, 'oxygen': 861, 'architecture': 862, 'run': 863, 'metal': 864, 'heat': 865, 'fuel': 866, 'docking': 867, 'jaxa': 868, 'site': 869, 'special': 870, 'bay': 871, 'biggest': 872, 'queue': 873, 'fate': 874, 'california': 875, 'ahead': 876, 'garyblack00': 877, 'though': 878, 'nichegamer': 879, 'williams': 880, 'designed': 881, 'local': 882, '90': 883, 'chrisg': 884, 'nsf': 885, '48': 886, 'thread': 887, 'chamber': 888, 'four': 889, 'klotzadam': 890, 'erujabidi': 891, 'labs': 892, 'complex': 893, 'n1': 894, 'expect': 895, 'case': 896, 'stephenking': 897, '0001f600': 898, 'spoke': 899, 'to\\x85': 900, 'tested': 901, '0001f44d': 902, 'place': 903, 'hiromichimizuno': 904, 'austin': 905, 'automatically': 906, 'reusability': 907, 'rockets': 908, '2660': 909, 'solved': 910, 'motor': 911, 'deployment': 912, 'chad': 913, 'jonerlichman': 914, 'rise': 915, 'set': 916, 'nigel': 917, 'lockyer': 918, 'larger': 919, 'we\\x92ve': 920, 'probability': 921, 'oct': 922, 'tons': 923, 'piece': 924, 'serious': 925, 'tunnels': 926, 'order': 927, 'neural': 928, 'analysis': 929, 'render': 930, 'teslatested': 931, 'zimon': 932, 'ratio': 933, 'for\\x85': 934, 'william': 935, 'brown': 936, 'thefavoritist': 937, 'cfs': 938, 'cup': 939, 'cathiedwood': 940, '330': 941, 'understood': 942, 'built': 943, '26a1': 944, '0001f1e9': 945, '0001f1ea': 946, 'hop': 947, 'germany': 948, 'fermilab': 949, 'dauqhx': 950, 'post': 951, 'govt': 952, 'timfernholz': 953, 'shravantr': 954, 'interview': 955, 'teslacn': 956, 'allocation': 957, 'entertaining': 958, 'outcome': 959, 'kanyewest': 960, 'bought': 961, 'issues': 962, 'crypto': 963, 'predict': 964, 'cash': 965, 'reasonably': 966, 'difficult': 967, 'net': 968, 'apply': 969, 'options': 970, 'appears': 971, 'look': 972, 'haven\\x92t': 973, 'heard': 974, 'destiny': 975, 'thrusters': 976, 'turbopump': 977, 'arm': 978, 'shorts': 979, 'wind': 980, 'bjfjlczwdk': 981, 'communication': 982, 'the\\x85': 983, 'enables': 984, 'astronaut': 985, 'advanced': 986, 'consider': 987, 'solve': 988, 'injuries': 989, 'tom': 990, 'correct': 991, 'certainly': 992, 'developing': 993, 'w': 994, 'whole': 995, 'gave': 996, 'sn10': 997, 'die': 998, 'buy': 999, 'aoc': 1000, 'robinhoodapp': 1001, 'providing': 1002, 'faa': 1003, 'esthetics': 1004, 'btw': 1005, '0001f44c': 1006, 'lafebra': 1007, 'gets': 1008, 'plaid': 1009, 'ships': 1010, 'waiting': 1011, 'kinda': 1012, 'hoping': 1013, 'collection': 1014, 'surround': 1015, 'road': 1016, 'hell': 1017, 'aviation': 1018, 'hardware': 1019, 'e': 1020, 'benton': 1021, 'increased': 1022, 'sensible': 1023, 'updates': 1024, 'standing': 1025, 'towards': 1026, 'eliburton': 1027, 'process': 1028, 'manufacturing': 1029, 'question': 1030, 'r': 1031, 'h': 1032, 'signalapp': 1033, 'side': 1034, 'code': 1035, 'cobra': 1036, 'kai': 1037, 'breedlove22': 1038, 'information': 1039, 'wise': 1040, 'repairs': 1041, 'school': 1042, 'prototypes': 1043, '21st': 1044, 'happened': 1045, 'fair': 1046, 'takes': 1047, 'actual': 1048, 'departure': 1049, 'gonna': 1050, 'machinepix': 1051, 'roscosmos': 1052, '0432': 1053, 'valaafshar': 1054, 'rapidly': 1055, 'codingmark': 1056, 'glass': 1057, 'coast': 1058, 'free': 1059, 'beyond': 1060, 'e\\x85': 1061, '0001f622': 1062, 'neither': 1063, 'reactor': 1064, 'primary': 1065, 'option': 1066, 'feedback': 1067, 'co2': 1068, 'h2o': 1069, 'powered': 1070, 'playing': 1071, 'ya': 1072, 'tiny': 1073, 'seen': 1074, 'external': 1075, 'effect': 1076, 'spceenthusiast': 1077, 'spacexvision': 1078, 'fusion': 1079, 'create': 1080, 'mount': 1081, 'catch': 1082, 'group': 1083, 'everywhere': 1084, 'final': 1085, 'entertainment': 1086, 'kimpaquette': 1087, 'truly': 1088, 'speaker': 1089, 'spacecoast': 1090, 'stve': 1091, '25': 1092, 'vaccines': 1093, 'anything': 1094, 'jchybow': 1095, 'offer': 1096, 'bu\\x85': 1097, 'pedestrian': 1098, 'seeing': 1099, 'custom': 1100, 'otherwise': 1101, 'bugs': 1102, 'delivery': 1103, 'wrong': 1104, 'during': 1105, 'reached': 1106, 'discuss': 1107, 'uses': 1108, 'foxbusiness': 1109, 'seriously': 1110, 'superchargers': 1111, 'yesterday\\x92s': 1112, '2665': 1113, 'memes': 1114, 'bitcoin': 1115, 'xdreamcoding': 1116, 'zone': 1117, 'incorrect': 1118, 'shirt': 1119, 'as\\x85': 1120, 'brandenburg': 1121, 'pack': 1122, 'deus': 1123, 'ex': 1124, 'revolution': 1125, 'reality': 1126, 'black': 1127, 'memory': 1128, 'distance': 1129, 'approach': 1130, 'docked': 1131, 'flying': 1132, 'success': 1133, \"spacex's\": 1134, 'upgraded': 1135, 'chica': 1136, 'approximately': 1137, '1\\x85': 1138, 'rave': 1139, 'hurley': 1140, 'boring': 1141, 'science': 1142, 'creating': 1143, 'congrats': 1144, 'hardest': 1145, 'round': 1146, 'weeks': 1147, 'fp32': 1148, 'height': 1149, 'worldandscience': 1150, 'normal': 1151, 'upgrades': 1152, 'sn': 1153, 'depends': 1154, 'teslaroadtrip': 1155, 'improvement': 1156, 'significant': 1157, 'philwhln': 1158, 'center': 1159, 'lsp': 1160, 'vicentes': 1161, 'ghost': 1162, 'nn': 1163, 'computer': 1164, '13': 1165, 'spent': 1166, 'obvious': 1167, 'ct': 1168, 'maisie': 1169, 'someone': 1170, 'merlin': 1171, 'maximum': 1172, 'lugg4s1': 1173, 'adding': 1174, 'starting': 1175, 'sometimes': 1176, 'timmerenginerd': 1177, 'received': 1178, 'kn\\x85': 1179, 'synthetic': 1180, 'unless': 1181, 'integrated': 1182, 'abort': 1183, 'mi\\x85': 1184, 'returning': 1185, 'ready': 1186, 'board': 1187, 'mario': 1188, 'livio': 1189, 'results': 1190, 'gene': 1191, 'ahem': 1192, 'what\\x92s': 1193, '0001f4ab': 1194, 'r\\x85': 1195, 'cycles': 1196, 'directly': 1197, 'lower': 1198, 'population': 1199, 'covid': 1200, 'lost': 1201, 'rna': 1202, 'fear': 1203, 'find': 1204, '4d': 1205, 'understands': 1206, 'inside': 1207, 'went': 1208, 'resume': 1209, 'motors': 1210, 'lands': 1211, 'uh': 1212, 'techamazing': 1213, 'zainraz4': 1214, 'loan': 1215, 'realize': 1216, 'current': 1217, 'position': 1218, 'joetegtmeyer': 1219, 'txterafactory': 1220, 'terafactorytx': 1221, 'significantly': 1222, 'sweden': 1223, 'pump': 1224, 'gravity': 1225, 'sunday': 1226, 'games': 1227, 'equipment': 1228, 'employees': 1229, 'hyperchangetv': 1230, 'pushed': 1231, 'functionality': 1232, 'ti\\x85': 1233, 'loss': 1234, 'limited': 1235, 'raj': 1236, 'f': 1237, 'flyerandyp': 1238, 'mojosusan': 1239, 'mobi': 1240, 'deliveries': 1241, 'felixschlang\\x85': 1242, 'vacuum': 1243, 'playoverwatch': 1244, 'twomad': 1245, 'wr4nygov': 1246, 'teslaclubin': 1247, 'caranddriver': 1248, 'applying': 1249, 'valve': 1250, 'track': 1251, 'jazz': 1252, 'b\\x85': 1253, 'seeley': 1254, 'reach': 1255, 'alvianchoiri': 1256, '10x': 1257, 'spexcast': 1258, 'optimized': 1259, 're\\x85': 1260, 'nickel': 1261, 'rvac': 1262, 'xiang': 1263, 'aw': 1264, 'yahoofinance': 1265, 'miles': 1266, 'reduce': 1267, 'arkinvest': 1268, 'trungtphan': 1269, 'planet': 1270, 'sama': 1271, 'ancient': 1272, 'rykllan': 1273, 'spacexcentric': 1274, 'filters': 1275, 'rbreich': 1276, 'techgnostik': 1277, 'saocom': 1278, '1b': 1279, 'limit': 1280, 'via': 1281, 'tjmurphy': 1282, 'exploremars': 1283, 'theespacedude': 1284, '28': 1285, 'vaccine': 1286, '263a': 1287, 'common': 1288, 'kulpability': 1289, 'study': 1290, 'spacetoday1': 1291, 'device': 1292, 'webcast': 1293, '78': 1294, 'powerwall': 1295, 'gpt': 1296, 'since': 1297, 'august': 1298, 'v1': 1299, 'humans': 1300, 'nickcappelli': 1301, 'jimbridenstine': 1302, 'goldberg': 1303, 'interests': 1304, 'endeavour': 1305, '200d': 1306, 'bring': 1307, 'ii': 1308, 'color': 1309, 'keith31345919': 1310, '0001f339': 1311, 'australia': 1312, 'yourfavgas': 1313, 'mhi': 1314, 'businessinsider': 1315, 'm4ttwegner': 1316, '74': 1317, 'alien': 1318, 'fail': 1319, 'anonyx10': 1320, 'sent': 1321, 'clubhouse': 1322, 'dogecoin': 1323, 'private': 1324, 'costs': 1325, 'sucks': 1326, 'gateway': 1327, 'blkmdl3': 1328, 'ipo': 1329, 'technical': 1330, 'economic': 1331, 'or\\x85': 1332, 'lowest': 1333, 'ideas': 1334, '100m': 1335, 'capture': 1336, 'prize': 1337, 'table': 1338, 'itsallrisky': 1339, 'michaelhodapp': 1340, 'tower': 1341, '42': 1342, 'cute': 1343, 'pain': 1344, 'finally': 1345, 'g': 1346, 'dogecoinrich': 1347, 'intense': 1348, 'learned': 1349, 'tell': 1350, 'kingdom': 1351, 'hang': 1352, 'strangers': 1353, 'scratch': 1354, 'burn': 1355, 'maneuvering': 1356, 'nasa\\x92s': 1357, 'default': 1358, 'shut': 1359, 'min': 1360, 'foolish': 1361, 'become': 1362, 'method': 1363, 'key': 1364, 'filled': 1365, '043c': 1366, '044b': 1367, 'ensure': 1368, 'everyday': 1369, 'you\\x92ve': 1370, 'wearables': 1371, 'robots': 1372, 'weird': 1373, 'helping': 1374, 'spine': 1375, 'stories': 1376, 'alert': 1377, 'smvllstvrs': 1378, 'reusable': 1379, 'escaping': 1380, 'beautiful': 1381, 'dr': 1382, 'thejackbeyer': 1383, 'install': 1384, 'inevitable': 1385, 'menieb': 1386, 'sword': 1387, 'entropy': 1388, 'gamespot': 1389, 'smaller': 1390, 'hotfixes': 1391, 'iupsychdoctor': 1392, 'fees': 1393, 'latter': 1394, 'shorty': 1395, 'respect': 1396, 'finishing': 1397, 'division': 1398, 'broken': 1399, 'nomad': 1400, '0001f917': 1401, 'storage': 1402, 'easily': 1403, 'avalonpenrose': 1404, 'investor': 1405, '24': 1406, 'based': 1407, 'you\\x85': 1408, 'mile': 1409, 'tires': 1410, 'seconds': 1411, 'discord': 1412, 'jason': 1413, 'passed': 1414, 'initial': 1415, 'dog': 1416, 'serve': 1417, 'satellite': 1418, 'at\\x85': 1419, 'turn': 1420, 'nns': 1421, 'megaconstellati': 1422, 'intel': 1423, 'jetcitystar': 1424, 'larrypress': 1425, 'laser': 1426, 'links': 1427, 'o\\x85': 1428, 'stations': 1429, 'separate': 1430, 'surprise': 1431, 'waymo': 1432, 'party': 1433, 'loop': 1434, 'boys': 1435, 'rideshare': 1436, 'offering': 1437, 'provides': 1438, 'weather': 1439, \"today's\": 1440, 'continue': 1441, 'seco\\x85': 1442, 'given': 1443, 'customers': 1444, 'excited': 1445, 'longer': 1446, 'chain': 1447, 'laurenrow5': 1448, 'rock': 1449, 'changing': 1450, 'stuck': 1451, 'but\\x85': 1452, 'tegmark': 1453, 'exceptionally': 1454, 'smart': 1455, 'ultra': 1456, 'eg': 1457, 'sustainable': 1458, 'whistle': 1459, 'guess': 1460, 'labor': 1461, 'twist': 1462, 'swap': 1463, 'slight': 1464, 'college': 1465, 'return': 1466, 'sea': 1467, 'promised': 1468, 'field': 1469, 'performing': 1470, 'burns': 1471, 'suicide': 1472, 'double': 1473, 'robot': 1474, 'physicsj': 1475, 'wish': 1476, '043d': 1477, 'increasing': 1478, 'de': 1479, 'facto': 1480, 'donate': 1481, 'pony': 1482, 'glenn22x': 1483, 'woketopiansa': 1484, 'seemed': 1485, 'thinking': 1486, 'tours': 1487, 'community': 1488, 'wherever': 1489, 'sean18743005': 1490, 'restaurant': 1491, 'sick': 1492, 'dozen': 1493, 'underway': 1494, 'convert': 1495, 'o2': 1496, 'ashleevance': 1497, 'def': 1498, 'rocks': 1499, 'dumber': 1500, 'spacex\\x85': 1501, 'flat': 1502, 'tall': 1503, 'proud': 1504, 'produced': 1505, 'delivered': 1506, 'huge': 1507, 'um': 1508, 'sky': 1509, 'mathias': 1510, 'döpfner': 1511, '0001f3a9': 1512, 'vertical': 1513, 'along': 1514, '1000': 1515, 'starships': 1516, 'press': 1517, 'debate': 1518, 'grid': 1519, 'odd': 1520, 'opposition': 1521, 'state': 1522, 'dank': 1523, 'visualization': 1524, 'cgi': 1525, 'autonomous': 1526, 'wsj': 1527, 'instead': 1528, 'unique': 1529, 'check': 1530, 'conexionspacial': 1531, 'liz': 1532, 'majority': 1533, 'pa\\x85': 1534, 'capable': 1535, 'theory': 1536, 'medicine': 1537, 'teslatruckclub': 1538, 'jeremyjudkins': 1539, 'jpuconn': 1540, 'display': 1541, 'adri': 1542, 'differences': 1543, 'rules': 1544, 'h3': 1545, 'extrachars': 1546, 'couldn\\x92t': 1547, 'nightmare': 1548, 'generator': 1549, 'horn': 1550, '0001f40d': 1551, '0001f3b7': 1552, '0001f4a8': 1553, 'holiday': 1554, 'latest': 1555, 'christmas': 1556, 'revenue': 1557, 'growth': 1558, 'vast': 1559, 'controlled': 1560, 'deepmind': 1561, 'possibly': 1562, 'program': 1563, 'possibility': 1564, 'iron': 1565, 'medium': 1566, 'photos': 1567, '095whx44bx': 1568, 'michael': 1569, 'stay': 1570, 'mightytesla': 1571, 'frank': 1572, 'upper': 1573, 'nytimes': 1574, 'light': 1575, 'plate': 1576, 'magic': 1577, 'w\\x85': 1578, 'oh': 1579, 'trans': 1580, 'pronouns': 1581, 'esthetic': 1582, 'flightclubio': 1583, 'blown': 1584, 'john': 1585, 'mere': 1586, 'detail': 1587, 'perhaps': 1588, 'output': 1589, 'dankeschön': 1590, 'grünheide': 1591, 'structural': 1592, '4680': 1593, 'ascent': 1594, 'up\\x85': 1595, 'spot': 1596, 'pockn': 1597, 'cg': 1598, 'elonmusk': 1599, 'reaching': 1600, 'universe': 1601, 'rud': 1602, 'tanks': 1603, 'dragons': 1604, 'message': 1605, '0001f409': 1606, 'period': 1607, 'morning': 1608, 'continues': 1609, 'docks': 1610, 'knock': 1611, 'singing': 1612, 'trillion': 1613, 'cells': 1614, 'tracking': 1615, 'footage': 1616, 'quiet': 1617, 'haya2e': 1618, 'en': 1619, 'man': 1620, 'supporting': 1621, 'previously': 1622, 'beast': 1623, 'compared': 1624, 'behalf': 1625, 'roc\\x85': 1626, 'bcart03': 1627, 'wider': 1628, 'fp16': 1629, 'betting': 1630, 'int8': 1631, 'thisisjendoll': 1632, 'johneg78': 1633, 'teslachillmode': 1634, 'unplgd3': 1635, 'mfrunker': 1636, 'ccteslaclub': 1637, 'overall': 1638, 'suspension': 1639, 'greatly': 1640, 'colors': 1641, 'subject': 1642, 'similar': 1643, '15km': 1644, 'altitude': 1645, 'rapid': 1646, 'reuse': 1647, 'exciting': 1648, '0001f62c': 1649, '0001f603': 1650, 'named': 1651, 'nasajpl': 1652, 'esa': 1653, 'n\\x85': 1654, 'you\\x92d': 1655, 'vision': 1656, 'with\\x85': 1657, 'peter': 1658, 'j': 1659, 'hisdirtremoves': 1660, 'comment': 1661, 'levie': 1662, 'suvitruf': 1663, 'sexy': 1664, 'week\\x92s': 1665, 'billion': 1666, 'decide': 1667, 'units': 1668, 'words': 1669, 'mild': 1670, 'eventually': 1671, 'quarantine': 1672, 'wanted': 1673, 'cut': 1674, 'learning': 1675, 'multiplanetary': 1676, 'royalsociety': 1677, 'marginal': 1678, 'strong': 1679, 'american': 1680, 'notable': 1681, 'changes': 1682, 'frankly': 1683, 'secs': 1684, 'sending': 1685, 'blow': 1686, 'charlesnotrumps': 1687, 'damn': 1688, 'est': 1689, 'others': 1690, 'cures': 1691, 'asking': 1692, 'past': 1693, 'apart': 1694, 'either': 1695, 'hover': 1696, 'parachutes': 1697, 'mr7vfiqwwf': 1698, 'launchamerica': 1699, '22': 1700, 'currently': 1701, 'amounts': 1702, 'systems': 1703, 'protect': 1704, 'obv': 1705, 'pointless': 1706, 'soichi': 1707, 'so\\x85': 1708, 'nasakennedy': 1709, 'nasapersevere': 1710, 'rover': 1711, 'marks': 1712, 'finished': 1713, 'saturday': 1714, 'behind': 1715, 'blood': 1716, 'co\\x85': 1717, 'cautious': 1718, 'steps': 1719, 'forward': 1720, 'buff': 1721, 'wildly': 1722, 'laws': 1723, 'win': 1724, 'expansion': 1725, 'thursday': 1726, 'degrees': 1727, 'mrsammy': 1728, 'roi': 1729, 'rossy65': 1730, 'virus': 1731, 'reference': 1732, 'dicey': 1733, 'spike': 1734, 'explanation': 1735, 'prevalence': 1736, 'industry': 1737, 'knowledge': 1738, 'sars': 1739, 'twice': 1740, 'burst': 1741, 'preburner': 1742, 'drphiltill': 1743, 'material': 1744, 'checking': 1745, 'rumor': 1746, 'tunneling': 1747, 'shortly': 1748, 'amyceskridge': 1749, 'chip': 1750, 'temp': 1751, 'transfer': 1752, 'processing': 1753, 'appear': 1754, 'linustech': 1755, '0001f1e8': 1756, '0001f1e6': 1757, 'care': 1758, 'describe': 1759, 'nor': 1760, 'simulation': 1761, 'nereide': 1762, 'faraday': 1763, 'invented': 1764, '420': 1765, 'ten': 1766, 'relatively': 1767, 'ramp': 1768, 'hour': 1769, 'lowering': 1770, 'terminal': 1771, 'rather': 1772, 'challenge': 1773, 'middle': 1774, 'norway': 1775, 'europe': 1776, 'country': 1777, 'states': 1778, 'thousand': 1779, 'expected': 1780, 'steezyysosa': 1781, 'lqdchkn': 1782, 'jd': 1783, 'penguin': 1784, 'random': 1785, 'house': 1786, 'wa\\x85': 1787, 'tgmetsfan98': 1788, 'active': 1789, 'roll': 1790, 'stable': 1791, 'wi\\x85': 1792, 'addressed': 1793, 'latency': 1794, 'deaths': 1795, 'attacks': 1796, 'easier': 1797, '37': 1798, 'talking': 1799, '18': 1800, 'converts': 1801, 'endelsound': 1802, 'smol': 1803, 'box': 1804, 'phased': 1805, 'array': 1806, 'antenna': 1807, 'crane': 1808, 'levels': 1809, 'duty': 1810, 'modern': 1811, 'usable': 1812, 'hardly': 1813, 'gm': 1814, '0001f4b0': 1815, 'efficiency': 1816, 'trash': 1817, 'helpful': 1818, 'excellent': 1819, 'supersonic': 1820, 'written': 1821, 'pics': 1822, 'there\\x92ll': 1823, 'fart': 1824, 'seeming': 1825, 'monday': 1826, 'tiki': 1827, 'pushing': 1828, 'mt': 1829, 'd': 1830, 'surgery': 1831, 'dna': 1832, 'fix': 1833, 'trip': 1834, 'consumption': 1835, 'report': 1836, 'tension': 1837, 'meter': 1838, 'added': 1839, 'basically': 1840, 'teslas': 1841, 'baby': 1842, '0001f918': 1843, 'billgates': 1844, 'carry': 1845, 'payloads': 1846, 'hawthorne': 1847, 'he\\x92s': 1848, 'sheer': 1849, 'jan': 1850, 'releasing': 1851, 'shortword': 1852, 'dual': 1853, 'twin': 1854, 'electrekco': 1855, 'mariabartiromo': 1856, 'potus': 1857, 'jeffbezos': 1858, 'morningsmaria': 1859, 'amount': 1860, 'electricfuture5': 1861, 'evidence': 1862, 'role': 1863, 'eberhard': 1864, 'mid': 1865, '2007': 1866, 'marketing': 1867, 'pellebrannvall': 1868, 'wall': 1869, 'mistake': 1870, 'comp\\x85': 1871, 'nose': 1872, 'cryo': 1873, 'flag': 1874, 'franktinsley': 1875, 'ankitxupta': 1876, 'evhq2': 1877, 'tree': 1878, 'picklepunchd': 1879, 'highly': 1880, 'flame': 1881, 'financing': 1882, 'tasty': 1883, 'kebab': 1884, 'outside': 1885, 'tesladri': 1886, 'chananbos': 1887, 'crash': 1888, 'rails': 1889, 'sandy': 1890, 'munro': 1891, 'licensing': 1892, 'gigafactory': 1893, 'structure': 1894, 'understand': 1895, 'advantage': 1896, 'kg': 1897, 'front': 1898, 'moment': 1899, 'klod': 1900, 'ua': 1901, '3rd': 1902, 'cities': 1903, 'aim': 1904, 'weekend': 1905, 'factor': 1906, 'yourself': 1907, 'eye': 1908, 'connectivity': 1909, 'letter': 1910, '0001f4a9': 1911, 'thatt3slaguy': 1912, 'missions': 1913, 'locations': 1914, 'internet': 1915, 'teslavibes': 1916, 'market': 1917, 'six': 1918, 'brian': 1919, 'ev': 1920, 'scottadamssays': 1921, 'completely': 1922, '301': 1923, 'muratpak': 1924, 'nozzle': 1925, 'duration': 1926, 'essentially': 1927, 'captured': 1928, 'finance': 1929, 'semi': 1930, 'believe': 1931, 'scaling': 1932, 'tip': 1933, 'mature': 1934, 'zog': 1935, 'fot': 1936, 'pik': 1937, 'efficient': 1938, 'zeroes': 1939, '3\\x85': 1940, 'chips': 1941, 'floating': 1942, 'north': 1943, 'exceptional': 1944, 'insane': 1945, 'fermatslibrary': 1946, 'tenetfilm': 1947, 'm2jr': 1948, 'shelter': 1949, 'button': 1950, 'error': 1951, 'vault': 1952, 'jhall': 1953, 'jackfarrington': 1954, 'winning': 1955, 'her': 1956, 'extend': 1957, 'neuralinks': 1958, 'outfit': 1959, 'greece': 1960, 'nobody': 1961, 'grave': 1962, 'book': 1963, 'guaranteed': 1964, 'padre': 1965, 'cameras': 1966, 'brandonbernicky': 1967, '\\x934d\\x94': 1968, 'hepa': 1969, 'disruptresearch': 1970, 'workers': 1971, 'prototype': 1972, 'guerre': 1973, 'computers': 1974, 'bell': 1975, 'sn6': 1976, 'operation': 1977, 'outer': 1978, 'ring': 1979, 'sir': 1980, 'it\\x92s\\x85': 1981, 'watt': 1982, 'prof': 1983, 'esthetically': 1984, 'ieeespectrum': 1985, 'summary': 1986, 'engineer': 1987, 'trivial': 1988, 'becomes': 1989, 'skirt': 1990, 'across': 1991, 'v2': 1992, 'lasik': 1993, 'heating': 1994, 'dot': 1995, 'backup': 1996, 'ht\\x85': 1997, 'reduction': 1998, 'techno': 1999, 'elevator': 2000, 'panzer': 2001, 'lake': 2002, 'direct': 2003, 'write': 2004, 'cover': 2005, 'basic': 2006, 'specifically': 2007, '2705': 2008, '0001f3af': 2009, 'f9': 2010, 'guidodecaso': 2011, 'biindia': 2012, 'closing': 2013, 'aliens': 2014, 'comets': 2015, 'package': 2016, 'africa': 2017, 'bold': 2018, 'tbdnonymous': 2019, 'girl': 2020, 'tomdestella': 2021, 'elon': 2022, 'giuliocoraggio': 2023, 'remains': 2024, 'acceptable': 2025, 'nikola': 2026, 'p\\x85': 2027, 'stoolpresidente': 2028, 'necessarily': 2029, 'kenkirtland17': 2030, 'blueorigin': 2031, 'theprimaldino': 2032, 'absurd': 2033, 'alloy': 2034, '17': 2035, 'videos': 2036, 'timothybuffett': 2037, 'construction': 2038, 'lindw0rm': 2039, 'spin': 2040, 'attempt': 2041, 'entry': 2042, 'superdraco': 2043, 'originally': 2044, 'depart': 2045, 'cybrtrck': 2046, 'bbc': 2047, 'teams': 2048, 'remain': 2049, 'plans': 2050, 'aug': 2051, 'iearnsomethlng': 2052, 'matfabrix': 2053, '0001f9db': 2054, '2640': 2055, 'firing': 2056, 'matrix': 2057, 'losing': 2058, 'sneakyness': 2059, 'teslaownersnbay': 2060, 'batteries': 2061, 'vistacruiser7': 2062, '0001f54a': 2063, 'das': 2064, 'atnickvega': 2065, 'youranonnews': 2066, 'charge': 2067, 'rhiddhid': 2068, 'blue': 2069, 'outdoor': 2070, 'teslaphx': 2071, 'crewtesla': 2072, 'jrosinski97': 2073, 'marc': 2074, 'ray4tesla': 2075, 'pjhornak': 2076, 'randyvegetables': 2077, 'historyofarmani': 2078, 'stimulus': 2079, 'soul': 2080, 'halves': 2081, 'anasis': 2082, 'ystijd': 2083, 'stephenpallotta': 2084, 'me\\x85': 2085, 'wire': 2086, 'danger': 2087, 'brycespacetech': 2088, 'jaminwestby': 2089, 'lr': 2090, '65': 2091, '041a': 2092, '0440': 2093, 'kenyanwalstreet': 2094, 'pay': 2095, 'kunalb11': 2096, 'ray': 2097, 'tracing': 2098, 'hdr': 2099, 'joerogan': 2100, 'spotify': 2101, 'gtera27': 2102, 'underestimated': 2103, 'execution': 2104, 'ox': 2105, '9wfkmyu2oj': 2106, 'frodo': 2107, 'underdoge': 2108, 'himself': 2109, 'zgxjfdzzrm': 2110, 'tweets': 2111, 'represent': 2112, 'givedirectly': 2113, '3rwe9uhsts': 2114, 'geoffkeighley': 2115, 'unrealengine': 2116, 'lil': 2117, 'toddler': 2118, 'hodler': 2119, 'joshmanmode': 2120, 'sentencing': 2121, 'fixing': 2122, 'unlock': 2123, 'account': 2124, 'fc9uhqsd7o': 2125, 'wallet': 2126, 'keys': 2127, 'avoided': 2128, 'app': 2129, 'selected': 2130, 'elements': 2131, 'lunar': 2132, '3pwt\\x85': 2133, 'staggeringly': 2134, 'endeavor': 2135, 'don\\x85': 2136, '9z8ac6skqx': 2137, 'chasm': 2138, '7j1c92hdjl': 2139, 'ton': 2140, 'sequestered': 2141, 'scalable': 2142, 'g\\x85': 2143, 'xmyi7qwsgw': 2144, 'countries': 2145, 'taxes': 2146, 'shipping': 2147, 'intended': 2148, 'cryptoshrikar': 2149, 'coindesk': 2150, 'dan': 2151, 'z': 2152, 'palmer': 2153, 'xprize': 2154, 'manage': 2155, 'fsw5ianl0r': 2156, 'sruhle': 2157, 'receives': 2158, 'comp': 2159, 'missing': 2160, 'capybarasurfer': 2161, 'mattwallace888': 2162, 'inflationary': 2163, 'meaningfully': 2164, 'coins': 2165, 'unit': 2166, 'whereas\\x85': 2167, '4uh4rarc6t': 2168, 'michaelgalanin': 2169, 'kevinmgill': 2170, 'stack': 2171, 'ð': 2172, 'ðogecoin': 2173, 'instructional': 2174, 'ueeocofctb': 2175, 'spoken': 2176, 'x41ovmztgo': 2177, 'nivetha': 2178, 'misleading': 2179, 'image': 2180, 'reflect': 2181, 'rain': 2182, 'hodl': 2183, 'rainforests': 2184, 'gf0rg2qoaf': 2185, 'joshroomsburg': 2186, 'snoopdogg': 2187, 'genesimmons': 2188, 'simplicity': 2189, 'genius': 2190, 'dogg': 2191, 'jbuttermost': 2192, 'wapodavenport': 2193, 'decades': 2194, 'notes': 2195, 'emails': 2196, 'texts': 2197, 'lessons': 2198, 'je4ei88hmv': 2199, 'dumdin7': 2200, 'dogecake': 2201, 'yolt': 2202, 'cnof9yjpf1': 2203, 'damian': 2204, 'restaurants': 2205, 'sjm': 2206, 'currency': 2207, 'redlineshifter': 2208, 'woodhaus2': 2209, 'franz': 2210, 'greate\\x85': 2211, 'e5wikiugkz': 2212, 'rcs': 2213, 'vso9h4ioed': 2214, 'isp': 2215, 'intuitively': 2216, 'fed': 2217, 'mu\\x85': 2218, 'lbtg1sibuc': 2219, 'spherex': 2220, 'collect': 2221, 'galaxies': 2222, 'explore': 2223, 'un\\x85': 2224, 'deck': 2225, '71cucbgpnx': 2226, 'mikko': 2227, 'darudevil': 2228, 'lever': 2229, 'throttle': 2230, 'flameout': 2231, 'la\\x85': 2232, 'thniyssnwn': 2233, 'immediately': 2234, 'meme': 2235, 'destroyer': 2236, 'commander': 2237, 'cruz': 2238, 'happen': 2239, 'sandstorm': 2240, 'masterpiece': 2241, 'madoverlord': 2242, 'pull': 2243, 'j1m7whlrdr': 2244, 'loki': 2245, 'highs': 2246, 'lows': 2247, 'gigachad': 2248, 'people\\x92s': 2249, 'e2kf57klxb': 2250, 'huobiglobal': 2251, 'vviuzwhodt': 2252, 'seas': 2253, 'bey7pefpcj': 2254, 'ln95reesbw': 2255, 'graffiti': 2256, 'eiraum': 2257, '0441': 2258, '0434': 2259, '0430': 2260, 'ekpg5qcbui': 2261, 'hamoon': 2262, 'implant': 2263, 'yky1llpumd': 2264, 'dream': 2265, 'announcing': 2266, 'aboard': 2267, 'mbesvnakad': 2268, 'uklsjffrjk': 2269, 'skills': 2270, 'latte\\x85': 2271, 'qrc6alads2': 2272, 'xccokojylt': 2273, '10pm': 2274, 'experim\\x85': 2275, 'teezkiwcmk': 2276, 'april': 2277, 'rotation': 2278, 'mis\\x85': 2279, 'became': 2280, 'fan': 2281, 'methane': 2282, 'was\\x85': 2283, 'mdv0vdefyc': 2284, 'deserves': 2285, 'cre\\x85': 2286, 'hdri4hfa8b': 2287, 'instrumental': 2288, 'vers\\x85': 2289, 'ulxtclm1g6': 2290, 'accelerate': 2291, 'unusually': 2292, 'v\\x85': 2293, 'u1z2cprrqj': 2294, 'we5dogg': 2295, 'warm': 2296, 'sunny': 2297, 'snowy': 2298, 'mountains': 2299, '2k8psyqu4j': 2300, 'escjtbzo9d': 2301, 'jaylav': 2302, 'frankensteen': 2303, 'wdj9k2ujqk': 2304, 'younesh1989': 2305, 'guy': 2306, 'halo': 2307, 'pyrcfe97xp': 2308, 'carnage4life': 2309, 'cryoproof': 2310, 'urtpjn7amo': 2311, 'retrospect': 2312, 'goods': 2313, 'produce': 2314, 'gtohclgj82': 2315, 'a6kmk0pegm': 2316, 'documentingbtc': 2317, 'dollar': 2318, 'shorting': 2319, 'shopify': 2320, 'ohqwix': 2321, 'bnnj6bcghvzqxlb': 2322, 'wimgrommen': 2323, 'wsbchairman': 2324, 'economy': 2325, 'tanstaafl': 2326, 'robin\\x85': 2327, 'czrhlolyvo': 2328, 'apologists': 2329, 'houses': 2330, 'sh\\x85': 2331, 'vjkf9bqbod': 2332, 'teslavangelist': 2333, 'candidate': 2334, 'desig\\x85': 2335, 'bfverxpoqu': 2336, 'unlike': 2337, 'aircraft': 2338, 'fundamentally': 2339, 'reg\\x85': 2340, 'si63axbjbz': 2341, 'evankaylor': 2342, 'anbuteau': 2343, 'interior': 2344, 'upgradable': 2345, 'djdzxq4maz': 2346, 'couch': 2347, '7teslanews': 2348, 'prnd': 2349, 'stalk': 2350, 'stick': 2351, 'annoying': 2352, 'shifter': 2353, 'stalks': 2354, 'guesses': 2355, 'obstacles': 2356, 'sees': 2357, 'context': 2358, 'nav': 2359, 'map': 2360, '6go7ehq9qy': 2361, 'hedge': 2362, 'fund': 2363, 'shrubbery': 2364, 'm0wwqstaxm': 2365, 'screen': 2366, '155mph': 2367, 'trap': 2368, '200mph': 2369, 'achieve': 2370, 'mph': 2371, 'hfuptnqipb': 2372, 'corpo': 2373, 'f23fxqkbce': 2374, 'andycolt2': 2375, 'gamestonk': 2376, 'rztkdzaewj': 2377, 'labpadre': 2378, 'adamhoov': 2379, 'v7cffwac0a': 2380, 'hand': 2381, 'knit': 2382, 'wool': 2383, 'marvin': 2384, 'martian': 2385, 'helm': 2386, 'gpcvjibtlm': 2387, 'etsy': 2388, 'hamstring': 2389, 'amazon': 2390, 'snigkxdxfp': 2391, 'afternoon': 2392, '\\x93stack\\x94': 2393, 'u90sqjkn8u': 2394, 'steadily': 2395, 'enable': 2396, 'superhuman': 2397, 'naval': 2398, 'tyranny': 2399, 'paved': 2400, 'intentions': 2401, 'levine': 2402, 'catchy': 2403, 'au32myf2rn': 2404, 'sats': 2405, 'ceofli8lzm': 2406, 'ground': 2407, 'poles': 2408, 'confusion': 2409, 'v8': 2410, 'rest': 2411, 'ricguccio': 2412, 'floats': 2413, 'themed': 2414, 'opening': 2415, 'allowed': 2416, 'yesterday': 2417, 'tlfouiedfm': 2418, 'lasers': 2419, 'operators': 2420, 'seeking': 2421, 'affordable': 2422, 'rid\\x85': 2423, '6gwwllixdg': 2424, 'js3zvm77rh': 2425, 'codewisdom': 2426, 'teslascope': 2427, 'switching': 2428, 'numbering': 2429, 'distinguish': 2430, 'qmhipv5zqs': 2431, 'unfavorable': 2432, 'countdown': 2433, 'depending': 2434, 'scru\\x85': 2435, 'gby9nacrsn': 2436, 'w66u5qduh9': 2437, 'require': 2438, 'fresh': 2439, 'that\\x92s\\x85': 2440, 'fwxsmo0f8t': 2441, 'kwtvwm7mbn': 2442, 'path': 2443, 'renewable': 2444, 'solves': 2445, 'hyd\\x85': 2446, 'xugrzqijzx': 2447, 'donating': 2448, 'elonsbrain': 2449, 'jason7patterson': 2450, 'eashanmisra': 2451, 'gr\\x85': 2452, 'siar8ifvwc': 2453, 'sarapolak': 2454, 'cz': 2455, 'seanmmitchell': 2456, 'johnnacrider1\\x85': 2457, 'vv6tthkr55': 2458, 'eighth': 2459, 'zyj8zddfql': 2460, 'kellyreid': 2461, 'limiting': 2462, 'constantly': 2463, 'francissuarez': 2464, 'cityofmiami': 2465, 'trucks': 2466, 'generate': 2467, 'megatons': 2468, 'toxic': 2469, 'gases': 2470, 'particulate': 2471, 'jcqiacxjno': 2472, 'machines': 2473, 'car\\x85': 2474, 'chgqmaiyts': 2475, 'industries': 2476, 'food': 2477, 'beverage': 2478, 'syringes': 2479, 'toys': 2480, 'limiter': 2481, 'slowing': 2482, 'pr\\x85': 2483, '9ybabezxcv': 2484, 'ferragu': 2485, 'viewed': 2486, 'valuable': 2487, 'trade': 2488, 'virgin': 2489, 'mrbeastyt': 2490, 'garage': 2491, 'owenshift': 2492, 'server': 2493, 'birthday': 2494, 'exist': 2495, 'watching': 2496, 'w00ki33': 2497, 'chuck': 2498, 'norris': 2499, 'divide': 2500, 'cerberu21014829': 2501, 'actuall\\x85': 2502, 'jz6zmqgbo3': 2503, 'monty': 2504, 'python': 2505, 'ujq94iwt88': 2506, 'knife': 2507, 'ease': 2508, 'switched': 2509, 'realomarabdalah': 2510, 'internships': 2511, 'excruciating': 2512, 'resupp\\x85': 2513, 'detanking': 2514, 'inspections': 2515, '\\x93hop': 2516, 'fires': 2517, 'ruds': 2518, 'officialjlipper': 2519, 'ho7ygxas3a': 2520, 'shanty': 2521, 'tiktok': 2522, 'pirate': 2523, 'connectdotstoo': 2524, 'practicing': 2525, 'held': 2526, 'massive': 2527, 'pins': 2528, 'fir\\x85': 2529, 'qtiiwlxxpl': 2530, 'legalize': 2531, 'comedy': 2532, 'lvladimirovbg': 2533, 'steal': 2534, 'logos': 2535, 'sue': 2536, 'shows': 2537, 'g27ohwvnxj': 2538, 'homicide': 2539, 'mvwgps9uqe': 2540, 'hey': 2541, 'queen': 2542, 'lrqdirbiyd': 2543, 'theoldmanpar': 2544, 'hate': 2545, '300km': 2546, 'millisecond': 2547, 'tkkruvgbth': 2548, 'ocy2gfryvn': 2549, 'iamdevloper': 2550, 'bkkeiiicye': 2551, 'mus': 2552, 'protec': 2553, '0001f476': 2554, 'yoda': 2555, '1dvhg0ntku': 2556, '041e': 2557, '0431': 2558, '0438': 2559, '043a': 2560, '043f': 2561, 'distinction': 2562, 'happens': 2563, 'imagined': 2564, 'commenting': 2565, 'replacement': 2566, 'junkyard': 2567, 'places': 2568, 'spare': 2569, 'unhappy': 2570, 'west': 2571, 'tech': 2572, 'arbiter': 2573, 'speech': 2574, 'alexandersibert': 2575, 'donated': 2576, 'advance': 2577, 'causes': 2578, 'extending': 2579, 'consciousness': 2580, 'vybfavhkys': 2581, 'wooseok': 2582, 'ragazaga5': 2583, 'prancing': 2584, 'boredelonmusk': 2585, 'erigganewmoney': 2586, 'mayemusk': 2587, 'optimistic': 2588, '14': 2589, 'son': 2590, 'saxon': 2591, '2021': 2592, 'parties': 2593, 'spaces': 2594, 'sites': 2595, 'done\\x85': 2596, 'wmqwct2wfh': 2597, 'christo49699922': 2598, 'catapult': 2599, 'jumping': 2600, 'parachute': 2601, 'futuristic': 2602, 'z2umtgsaoi': 2603, 'techreview': 2604, 'tonychomrmagic': 2605, 'teslaenergy': 2606, 'installations': 2607, '91demigod': 2608, 'po\\x85': 2609, 'ph6x1plnam': 2610, 'beats': 2611, '8pbsgffzrp': 2612, 'decision': 2613, 'makers': 2614, 'verification': 2615, 'ascribe': 2616, 'credibilit\\x85': 2617, 'ju4wemvsjg': 2618, 'wbk7zz0fqx': 2619, 'ways': 2620, 'harder': 2621, 'indirectly': 2622, 'electricity': 2623, 'this\\x85': 2624, 'fqzotwqt9d': 2625, 'photon': 2626, 'emission': 2627, 'antimatter': 2628, 'annihila\\x85': 2629, 'y8po10opqn': 2630, 'residentsponge': 2631, '4thfromourstar': 2632, 'wings': 2633, 'runways': 2634, 'ericrweinstein': 2635, 'hamiltonians': 2636, '2v': 2637, 'langrangians': 2638, '2ja38z8mre': 2639, 'thehackersnews': 2640, 'reminds': 2641, 'timeless': 2642, 'classic': 2643, 'gq1wayotir': 2644, 'occam\\x92s': 2645, 'razor': 2646, 'third': 2647, 'observer': 2648, 'participants': 2649, 'tho': 2650, 'domino': 2651, 'qpbew54rvm': 2652, 'dtrford': 2653, 'alexsvanart': 2654, 'tomdixondesign': 2655, 'es5garryvs': 2656, 'footprint': 2657, 'ranges': 2658, 'snow': 2659, 'falling': 2660, 'etxmtyp8hg': 2661, 'responsible': 2662, 'personal': 2663, 'professional': 2664, 'combined': 2665, 'achieving': 2666, 'milestone': 2667, 'optimistica\\x85': 2668, '1wlybpkmzj': 2669, 'q43vz6rmhd': 2670, 'newscientist': 2671, 'maintenance': 2672, 'driver': 2673, 'jmabjuqfdf': 2674, 'safer': 2675, 'drivers': 2676, 'aut\\x85': 2677, 'dyy2rmhgil': 2678, 'ignore': 2679, 'heading': 2680, 'ewnahc4ch0': 2681, 'greatest': 2682, 'gatsby': 2683, 'inspired': 2684, 'ballet': 2685, 'motion': 2686, 'let\\x92s': 2687, 'roaring': 2688, '20\\x92s': 2689, 'lumps': 2690, 'xjlljpljbp': 2691, 'aloysiusfekete': 2692, 'rexchapman': 2693, 'helium': 2694, 'kawwol54jg': 2695, 'flabellina212': 2696, 'saves': 2697, 'immediate': 2698, 'repositioning': 2699, 'rea\\x85': 2700, 'jwdcjarymj': 2701, 'fins': 2702, 'load': 2703, 'undivided': 2704, 'attention': 2705, 'winder': 2706, 'ostrich': 2707, 'gliding': 2708, 'nonchalant': 2709, 'dtpmdm3tqp': 2710, 'bmw\\x92s': 2711, 'baveria': 2712, 'that\\x91s': 2713, 'brande\\x85': 2714, 'm7dyvli4cx': 2715, 'anywhere': 2716, 'cannot': 2717, 'option\\x85': 2718, 'ppaereeo8y': 2719, 'dankberg': 2720, 'action': 2721, 'wack': 2722, 'reza': 2723, 'zadeh': 2724, 'westworld': 2725, 'jayson32292601': 2726, 'text': 2727, 'voice': 2728, 'sfs': 2729, 'central': 2730, 'cheese': 2731, 'trouble': 2732, 'omacmyqawx': 2733, 'chicago': 2734, 'glenn': 2735, '5mrvvzmekg': 2736, 'voive97vpr': 2737, 'bensullins': 2738, 'ui': 2739, 'overhaul': 2740, 'maldivawow': 2741, 'incremental': 2742, 'codebase': 2743, '07puoramgo': 2744, '\\x93poses': 2745, 'hazard\\x94': 2746, 'viasat\\x92s': 2747, 'profits': 2748, 'sneaky': 2749, 'moves': 2750, 'charlie': 2751, 'ergen': 2752, 'themselves': 2753, 'meeting': 2754, 'larry': 2755, 'ellison': 2756, 'seek': 2757, 'advice': 2758, 'quarter': 2759, 'richierichhhhh': 2760, 'gaming': 2761, 'taste': 2762, 'polytopia': 2763, 'multiplayer': 2764, 'online': 2765, 'pie': 2766, 'en\\x85': 2767, 'qe4jcezytq': 2768, 'thatdesignguy': 2769, 'siphiw': 2770, 'moosuraj': 2771, '95': 2772, 'pro\\x85': 2773, 'r3yb6cmrb8': 2774, 'gunmtlm3': 2775, 'interviews': 2776, 'pmgu4vhqez': 2777, 'curing': 2778, 'uruvc4qf1a': 2779, 'multiple': 2780, 'ivanescobosa': 2781, 'revisions': 2782, 'kkvr2823': 2783, 'subtle': 2784, 'xzx9ppvl92': 2785, '\\x93match': 2786, 'speed\\x94': 2787, 'stevewoz': 2788, '13arm13arm': 2789, '7hkza1ohe4': 2790, 'writing': 2791, 'afloathickory': 2792, 'save': 2793, 'upload': 2794, '0001f410': 2795, 'jingles': 2796, 'merry': 2797, 'holidays': 2798, '0001f381': 2799, 'uk6nspwr9r': 2800, 'predictable': 2801, 'operations': 2802, 'absorb': 2803, 'li\\x85': 2804, 'vxv7ghumbd': 2805, 'futurist': 2806, 'olhzn': 2807, '12': 2808, 'fall': 2809, 'hcrgyx42rn': 2810, 'ironing': 2811, 'taking': 2812, 'nature': 2813, 'frictionless': 2814, 'darkest': 2815, 'tim': 2816, 'cook': 2817, 'optz9urne0': 2818, 'phosphate': 2819, 'shanghai': 2820, 'facto\\x85': 2821, 'milwsilvrt': 2822, 'sparta\\x92s': 2823, 'reply': 2824, 'macedon': 2825, 'lizclaman': 2826, 'clamancountdown': 2827, 'hi': 2828, 'twisted': 2829, 'affair': 2830, 'all\\x92s': 2831, 'ends': 2832, 'kind': 2833, 'accessible': 2834, '6ojfysuaxo': 2835, 'saylor': 2836, 'transactions': 2837, 'ppl': 2838, 'bizzzzzyd': 2839, 'hanging': 2840, 'pseudo': 2841, 'intellectual': 2842, 'conversations': 2843, '0s0ybscm0p': 2844, 'comments': 2845, '0001f484': 2846, 'padgeuk': 2847, 'subscription': 2848, 'fiat': 2849, 'hajek': 2850, 'miloslav': 2851, 'nails': 2852, 'lipstick': 2853, 'lauren': 2854, 'kalo': 2855, 'sawyermerritt': 2856, 'jasondebolt': 2857, 'babytesla3\\x85': 2858, 'dvwzgtppda': 2859, 'ebojgshvrq': 2860, 'callowaytech': 2861, '\\x93lord\\x94': 2862, 'edge': 2863, 'thelen': 2864, 'branding': 2865, 'kidding': 2866, 'anyway': 2867, 'mr18qv3goc': 2868, 'ag4rar6qnp': 2869, 'inspect': 2870, 'mania': 2871, 'astonmartin': 2872, 'grumpy': 2873, 'absurdly': 2874, 'ther\\x85': 2875, 'v8muheapoq': 2876, 'bright': 2877, '6cetazsxco': 2878, '13ericralph31': 2879, 'visually': 2880, 'stunning': 2881, 'playability': 2882, 'armor': 2883, 'kevlar': 2884, 'chest': 2885, 'absence': 2886, 'iydkttvsqk': 2887, 'umm': 2888, 'jtg944ercy': 2889, 'altit\\x85': 2890, 'ikcrzpyxtr': 2891, 'loaded': 2892, 'picot': 2893, 'improving': 2894, 'surface': 2895, 'woul\\x85': 2896, 'zm0sz9cbzg': 2897, 'confident': 2898, 'rkfvjvotse': 2899, 'und': 2900, 'world\\x92s\\x85': 2901, 'wesafntz7a': 2902, 'dota2funny1': 2903, 'objective': 2904, 'zo01qsu1wt': 2905, 'flip': 2906, 'maneuver': 2907, 'qud9hwz9cx': 2908, 'heavens': 2909, 'oggsw88yrz': 2910, 'briefly': 2911, 'picked': 2912, 'picks': 2913, 'nllipnbmxr': 2914, 'zwiebelbach': 2915, 'aayypcpp1i': 2916, 'hehe': 2917, 'sklmil3oxt': 2918, 'rhksb40xqr': 2919, 'kmg7c9qf6h': 2920, 'sdmxkbhdzd': 2921, 'qbnt1dused': 2922, 'sxm': 2923, '25th': 2924, 'zrur0ewnlv': 2925, 'quantamagazine': 2926, 'init': 2927, 'void': 2928, 'soft': 2929, 'transpiration': 2930, 'cooking': 2931, 'us\\x85': 2932, '9sschdkfad': 2933, 'leeward': 2934, 'bare': 2935, 'windward': 2936, 'hexagonal': 2937, 'shield': 2938, \"can't\": 2939, 'spacexstarship': 2940, 'ynetmywfvg': 2941, 'preserved': 2942, 'sn8\\x92s': 2943, '5ozlyf7qrf': 2944, 'woohoo': 2945, 'apogee': 2946, 'would\\x92ve': 2947, 'controlling': 2948, 'putting\\x85': 2949, 'xwm1fxmx0r': 2950, '1zczinfc4u': 2951, 'causing': 2952, 'touchdown': 2953, 'velocity': 2954, 'all\\x85': 2955, 'wgjvdsahmf': 2956, 'switchover': 2957, 'precise': 2958, 'flap': 2959, 'iiraiesg5m': 2960, '0001f920': 2961, 'fastest': 2962, '\\x93station\\x94': 2963, 'spee\\x85': 2964, 'vyvivrtzsa': 2965, 'lapse': 2966, 'i046jbmc7o': 2967, '\\x93so': 2968, 'orifice': 2969, 'decrypted': 2970, 'objectives': 2971, '40pm': 2972, 'autonomously': 2973, '1st\\x85': 2974, 'rcyoxxptc2': 2975, '30pm': 2976, 'crewdragon\\x85': 2977, 'earthlings': 2978, '2600': 2979, 'journey': 2980, 'statio\\x85': 2981, 'telegram': 2982, 'carrying': 2983, 'symbiotic': 2984, 'bacteria': 2985, 'mobile': 2986, 'colonies': 2987, 'helicopter': 2988, 'today\\x92s': 2989, 'lc': 2990, '7ryvzrts18': 2991, 'genuinely': 2992, 'magical': 2993, 'serine': 2994, 'im': 2995, 'gespräch': 2996, 'bqa5piaonk': 2997, 'cnl6t0lq0g': 2998, 'pgk24cph9e': 2999, 'rdanglephoto': 3000, 'd3jkoiasy7': 3001, 'toilet': 3002, 'paper': 3003, 'demolition': 3004, 'prometheus': 3005, 'unbound': 3006, 'bob': 3007, 'behnken': 3008, 'sta\\x85': 3009, 'vic': 3010, 'award': 3011, 'accepted': 3012, '\\x93rocket': 3013, 'scientist\\x94': 3014, 'ws70uvcryn': 3015, 'discovering': 3016, 'truths': 3017, 'exists': 3018, 'things\\x85': 3019, 'xmqtbrldyp': 3020, 'paint': 3021, 'memories': 3022, 'external\\x85': 3023, 'csizk6sevu': 3024, 'risky': 3025, 'wednesday': 3026, 'sad': 3027, 'tony': 3028, 'pic': 3029, 'thanos': 3030, 'poppa': 3031, 'bearq': 3032, 'truncate': 3033, 'zeros': 3034, 'dburkland': 3035, 'digits': 3036, 'truncated': 3037, 'lifting': 3038, 'lb14pksayi': 3039, 'mmg5b8b40z': 3040, 'thanksgiving': 3041, 'damping': 3042, 'algorithm': 3043, 'opgo08vd4y': 3044, 'humanoidhistory': 3045, 'promise': 3046, 'savage': 3047, 'wondered': 3048, 'leader': 3049, 'etfp9ielrf': 3050, 'aholstein404': 3051, 'slated': 3052, 'sn15': 3053, 'wiring': 3054, 'robust': 3055, 'mat\\x85': 3056, '7ofbmy1n25': 3057, '50k': 3058, 'goals': 3059, 'engin\\x85': 3060, '7ojorqnhb6': 3061, 'starshipfairing': 3062, 'propel\\x85': 3063, 'j2uvultatv': 3064, 'refilling': 3065, 'd\\x85': 3066, 'umyur7yshy': 3067, 'simply': 3068, 'changer': 3069, 'cu\\x85': 3070, 'nb5hl7gzlx': 3071, 'xhnews': 3072, 'liv': 3073, 'boeree': 3074, 'yea': 3075, '7th': 3076, 'shycybertruck': 3077, 'loves': 3078, 'hates': 3079, 'hypocrisy': 3080, 'european': 3081, 'sentinel': 3082, 'freilich': 3083, 'observing\\x85': 3084, 'skynet': 3085, 'joke': 3086, 'tempting': 3087, 'producing': 3088, 'largest': 3089, 'cast': 3090, 'titanium': 3091, 'shielding': 3092, 'vandenberg': 3093, 'afb': 3094, '46j2gccjp0': 3095, 'launch\\x85': 3096, 'fr9aucywco': 3097, 'investing': 3098, 'wduz0wnuin': 3099, 'ffpvdsqruc': 3100, 'apzngmo0k7': 3101, '1\\x92s': 3102, 'lqw6tympb7': 3103, 'nasaaero': 3104, 'lockheedmartin': 3105, 'pointy': 3106, 'fonseca': 3107, 'virtualastro': 3108, 'xajan4j9zr': 3109, 'margin': 3110, 'radar': 3111, 'wavelengths': 3112, 'dmgov9rcnu': 3113, 'misperception': 3114, 'developed': 3115, 'lidar': 3116, '3i0bwgjlqp': 3117, 'philippecroizon': 3118, 'beck': 3119, 'internal': 3120, 'ballpark': 3121, '0srlfg03fg': 3122, 'xpeng': 3123, 'isaaclatterell': 3124, 'andrej': 3125, 'talented': 3126, 'autopilot\\x85': 3127, '64ocngk3ey': 3128, 'spacetouristuk': 3129, 'stole': 3130, 'apple\\x92s': 3131, 'gy4dt7pq9n': 3132, 'rocketlab': 3133, 'forbes': 3134, 'caution': 3135, 'strongly': 3136, 'advised': 3137, 'spacs': 3138, 'adamkiotz': 3139, 'cropping': 3140, 'champion': 3141, 'tweetmenima': 3142, 'widen': 3143, 'liquor': 3144, 'distribution': 3145, 'kvhlbuee1u': 3146, 'bug': 3147, 'fixes': 3148, 'bv5stdwngj': 3149, 'martians': 3150, 'shifthappends': 3151, 'dealing': 3152, 'terraforming': 3153, 'relevant': 3154, 'lifetime': 3155, 'establish': 3156, 'base\\x85': 3157, 'uygaae7g3r': 3158, 'intention': 3159, 'frezwjcwna': 3160, 'publicly': 3161, 'traded': 3162, 'bogle': 3163, 'thems\\x85': 3164, 'encu8cblpy': 3165, 'bro': 3166, 'pc': 3167, 'means': 3168, 'viral\\x85': 3169, 'uysanpqtfi': 3170, 'domes': 3171, 'terraformed': 3172, 'daywalker': 3173, 'xd': 3174, '\\x93sim': 3175, 'deveras': 3176, 'cases': 3177, 'non': 3178, 'infectious': 3179, 'oalvzwcmio': 3180, 'mercy': 3181, '9ie40hoihr': 3182, 'staceyr28715306': 3183, '0001f60f': 3184, 'bite': 3185, 'sentience': 3186, '5zsyalvczx': 3187, 'peterrhague': 3188, 'overkill': 3189, 'sector': 3190, 'activity': 3191, 'yjltt8peeu': 3192, 'blessing': 3193, 'sort': 3194, 'groundswell': 3195, 'believed\\x85': 3196, 'fwk1zihfeg': 3197, 'nullius': 3198, 'verba': 3199, 'reflexfunds': 3200, 'nickidk4': 3201, '1m': 3202, 'rnsj5fkdxt': 3203, 'speculawyer': 3204, 'kerosene': 3205, 'suboptimal': 3206, 'what\\x85': 3207, 'joetyskgp7': 3208, 'parstalberg': 3209, 'visiting': 3210, 'ah': 3211, 'unequivocal': 3212, 'yjdogokx8q': 3213, 'figurative': 3214, 'literal': 3215, 'dust': 3216, 'settles': 3217, 'dayquil': 3218, 'one\\x85': 3219, 'hj0thlr48n': 3220, 'avionics': 3221, 'cables': 3222, 'pipe': 3223, 'shields': 3224, 'cooled': 3225, 'pipes': 3226, 'martyte': 3227, 'covering': 3228, 'concrete': 3229, 'shattered': 3230, 'blades': 3231, 'vilv1s16yo': 3232, 'euxoocfr9t': 3233, 'count': 3234, 'atoms': 3235, 'tv3pixzp4i': 3236, 'well\\x85': 3237, 'y5njrepvtc': 3238, 'billhuang688': 3239, 'greenisclutch': 3240, 'teslaquila': 3241, 'permission': 3242, 'stonecutters': 3243, 'guild': 3244, 'sw5rbm1srb': 3245, 'trylolli': 3246, '0001f47b': 3247, '0001f4b5': 3248, 'uwerahxuev': 3249, 'russian': 3250, 'ukrainian': 3251, 'arrived': 3252, 'toss': 3253, 'witcher': 3254, 'enter': 3255, 'utc': 3256, 'tour': 3257, 'space\\x85': 3258, 'moderna': 3259, 'kveprq79rl': 3260, 'mrna': 3261, 'yp7djawiks': 3262, 'gaertner': 3263, 'anne': 3264, 'dresdentea': 3265, 'judith': 3266, 'herbers': 3267, 'fatigue': 3268, 'chang\\x85': 3269, 's8eo2xb2sf': 3270, 'channels': 3271, 'walls': 3272, 'obviates': 3273, 'propulsively': 3274, 'enabling': 3275, 'capability': 3276, 'krohkor6ae': 3277, 'ride': 3278, 'vzhxun6yie': 3279, 'beginning': 3280, 'spaceflight': 3281, 'priv\\x85': 3282, 'tailored': 3283, 'suits': 3284, 'route': 3285, 'communications': 3286, 'event': 3287, 'cabin': 3288, 'depressu\\x85': 3289, 'coverage': 3290, '27pm': 3291, 'tboneagnoobs': 3292, 'tonight\\x92s': 3293, '27': 3294, 'boa\\x85': 3295, 'sym\\x85': 3296, 'gl0mhrqjxy': 3297, 'administered': 3298, 'rn': 3299, 'am\\x85': 3300, 'hajhh7la7q': 3301, 'insanely': 3302, 'argument': 3303, '3fazzgss8c': 3304, '0001f338': 3305, 'girls': 3306, 'japan': 3307, 'tumblr': 3308, 'spotlight': 3309, \"nasa's\": 3310, 'arrive': 3311, '0001f534': 3312, 'days\\x85': 3313, 'crew1': 3314, 'dress': 3315, 'rehearsal': 3316, 'dragon\\x85': 3317, 'kids': 3318, 'wig': 3319, 'granular': 3320, 'ie': 3321, 'reading': 3322, 'curious': 3323, 'rona': 3324, 'fa6kd61eba': 3325, 'stonkmanup': 3326, 'ju\\x85': 3327, 'twl0dgurmk': 3328, 'regular': 3329, 'achy': 3330, 'cloudy': 3331, 'ihvpeox7m6': 3332, 'opinion': 3333, 'regarded': 3334, 'emuxlx698g': 3335, 'stendeck77': 3336, 'merged': 3337, 'moderate': 3338, 'covid\\x85': 3339, 'xlbahahjoj': 3340, 'npcs': 3341, 'dmt': 3342, 'thermodynamics': 3343, 'break': 3344, 'shakes': 3345, 'fist': 3346, 'realnattastic': 3347, 'robintosh': 3348, 'nunez': 3349, 'saliva': 3350, 'sample': 3351, 'cov\\x85': 3352, 'tm7cs8otdt': 3353, 'honey': 3354, 'pos': 3355, 'pelagicbird': 3356, 'heneghan': 3357, 'hilarious': 3358, 'clarify': 3359, 'mlxngcsa9t': 3360, 'amplification': 3361, 'detect': 3362, 'rough': 3363, 'indicator': 3364, 'vir\\x85': 3365, 'mn8192hueq': 3366, 'closed': 3367, 'puyijcadd6': 3368, 'mwopr7w8kk': 3369, 'fwiw': 3370, 'thinks': 3371, 'k77wxq11yt': 3372, 'detection': 3373, 'n3': 3374, 'genes': 3375, 'protein': 3376, 'search': 3377, 'unique\\x85': 3378, 'x57odvdauo': 3379, 'dramatic': 3380, 'decline': 3381, 'flu': 3382, 'comes\\x85': 3383, 'gmlvewwxdp': 3384, 'moreover': 3385, 'xvabeklh1q': 3386, '42z7vrpb9c': 3387, 'xtsukcc3tl': 3388, 'dana': 3389, 'morgan': 3390, 'approximate': 3391, 'posi\\x85': 3392, 'lvc11nikql': 3393, 'clarecraigpath': 3394, 'beans': 3395, 'accuracy': 3396, 'gene\\x85': 3397, 'vbiu7ds4uq': 3398, 'identify': 3399, 'proteins': 3400, 'm8vj2gaofs': 3401, 'sniffles': 3402, 'cough': 3403, 'fever': 3404, 'nyquil': 3405, '\\x93elon': 3406, 'musk': 3407, 'negati\\x85': 3408, '6ohta09s5l': 3409, 'carousel': 3410, 'joeingeneral': 3411, 'andrewbogut': 3412, 'typical': 3413, 'unusual': 3414, 'bogus': 3415, 'cam\\x85': 3416, 'z2v15u7zcf': 3417, 'disk': 3418, 'melted': 3419, 'manifold': 3420, 'whatev\\x85': 3421, '5elyx8pjlg': 3422, 'pneumatics': 3423, 'reason': 3424, 'unknown': 3425, 'present': 3426, 'risin\\x85': 3427, 'szc90hnti8': 3428, 'tops': 3429, 'list': 3430, '2020\\x92s': 3431, 'attractive': 3432, 'employers': 3433, 'students': 3434, 'kknyqlet0o': 3435, 'sat': 3436, 'cape': 3437, 'uzcgikcikb': 3438, 'cardoso': 3439, 'luck': 3440, 'superpower': 3441, 'served': 3442, 'sacrificed': 3443, 'veteransday': 3444, 'u8kn4fzpj9': 3445, 'swings': 3446, 'xaimd6nljv': 3447, 'honor': 3448, 'choose': 3449, 'strive': 3450, 'enable\\x85': 3451, 'otdwcsk3ck': 3452, 'privilege': 3453, 'blessed': 3454, 'readiness': 3455, 'concluded': 3456, 'hbvuhwv3ab': 3457, 'davidhuber15': 3458, 'teslany': 3459, 'financially': 3460, 'entry\\x85': 3461, 'ncafknfzlc': 3462, 'bioreactor': 3463, 'opouohyamu': 3464, 'hangar': 3465, 'liftoff\\x85': 3466, 'tedium': 3467, 'canceled': 3468, 'chalk': 3469, 'geologically': 3470, 'soils': 3471, 'jobs': 3472, 'avai\\x85': 3473, 'd0i2w8wnkg': 3474, 'cookie': 3475, 'browser': 3476, 'bbctech': 3477, 'vyyyper': 3478, '2zlkc8fc2d': 3479, 'ed': 3480, 'spartan': 3481, '117': 3482, 'nykchannel': 3483, 'accidental': 3484, '20k': 3485, 'counting': 3486, 'urudyt9eui': 3487, 'hprgptt6ru': 3488, 'vasu42698392': 3489, 'sensor': 3490, 'maintains': 3491, 'reganlovetesla': 3492, 'tesla\\x92s': 3493, 'prototy\\x85': 3494, 'tgpwej7wqa': 3495, 'overclock': 3496, 'supercomputer': 3497, 'extension': 3498, 'yo\\x85': 3499, 'nbybbfx0t2': 3500, 'rewrote': 3501, 'phot\\x85': 3502, 'mltbdsquty': 3503, 'calculations': 3504, 'profound': 3505, 'importance': 3506, 'era': 3507, 'expendable': 3508, 'dynamically': 3509, 'occluded': 3510, 'objects': 3511, 'intersection\\x85': 3512, 'ooj9pqayhj': 3513, '5u3fnqfhr1': 3514, 'phantom': 3515, 'opera': 3516, 'solvers': 3517, 'urgency': 3518, 'banner': 3519, 'commutator': 3520, 'phase': 3521, 'ac': 3522, 'induction': 3523, 'other\\x85': 3524, 'cqo2rjlrbv': 3525, 'maxwell': 3526, 'recognition': 3527, '6y42kmcpgk': 3528, 'gps': 3529, 'iii': 3530, 'fcfjrcwmti': 3531, 'hd0ibpx3t5': 3532, 'li4o0tnml8': 3533, 'awaiting': 3534, 'canadian': 3535, 'authorities': 3536, 'recruiting': 3537, 'ace': 3538, '25guns': 3539, 'wtf': 3540, 'einstein': 3541, 'succeed': 3542, 'jtrevorchapman': 3543, 'users': 3544, 'tmw6phbef0': 3545, 'steve': 3546, 'convertible': 3547, 'runway': 3548, 'ej7iovx2w4': 3549, 'closest': 3550, 'stress': 3551, 'wuhekj0hio': 3552, 'eithe\\x85': 3553, '9bgkez9d8a': 3554, 'funding': 3555, '6pm': 3556, 'eve': 3557, '2008': 3558, 'investo\\x85': 3559, 'umfgjnkoxm': 3560, 'itshamzahkhan': 3561, 'regulatory': 3562, '8ehbqc3fa0': 3563, 'kjell': 3564, 'arne': 3565, 'approved': 3566, 'individually': 3567, 'eu': 3568, 'approval\\x85': 3569, '8zbt9qjd9h': 3570, 'rassett': 3571, 'latitude': 3572, 'january': 3573, 'participation': 3574, 'invitations': 3575, 'louiswferreira': 3576, 'tweaks': 3577, 'ruediphtil': 3578, 'supercollider': 3579, 'considerably': 3580, 's3typirk4u': 3581, 'lqdchkn\\x85': 3582, 'pqsjzopaj5': 3583, 'average\\x85': 3584, 'ozazv1igxa': 3585, 'tex\\x85': 3586, 'g2iniry9es': 3587, 'kyzcralotsxam': 3588, '0001f634': 3589, 'livestream': 3590, 'provide': 3591, 'jmojn9hhxs': 3592, 'fnarolles': 3593, 'sub': 3594, 'aero': 3595, 'clos\\x85': 3596, 'm8xzlzvsaq': 3597, 'hez9otgjjh': 3598, 'lord': 3599, 'fails': 3600, 'landing\\x85': 3601, 'daqdiiwb9x': 3602, 'understanding': 3603, 'pitch': 3604, 'yaw': 3605, 'duri\\x85': 3606, '79jvi22n2r': 3607, 'fortunately': 3608, 'descent': 3609, 'transferring': 3610, 'propellant\\x85': 3611, 'vpiippdv02': 3612, 'faults': 3613, 'fault': 3614, 'inu2xajd7u': 3615, 'measure': 3616, 'intervention': 3617, 'issu\\x85': 3618, 'zyf8efd6ih': 3619, '\\x93neural': 3620, 'nets\\x94': 3621, 'again\\x85': 3622, 'mnn6s3srre': 3623, 'auchenberg': 3624, 'bandwidth': 3625, 'noticeably': 3626, 'interventions': 3627, 'think\\x85': 3628, 's5xouoedjt': 3629, '29': 3630, 'b0lygotobi': 3631, 'tocnewyorkstate': 3632, 'fewer': 3633, 'malekkhelifi24': 3634, '9inety6prince': 3635, 'stephenson': 3636, 'constellation': 3637, 'scrotum': 3638, 'fry': 3639, 'sun': 3640, '2hx6tla8f7': 3641, 'challenges': 3642, 'winds': 3643, 'stranger': 3644, 'fiction': 3645, 'urf': 3646, 'homantse28': 3647, 'told': 3648, 'eaten': 3649, 'jitb': 3650, 'teriyaki': 3651, 'bowl': 3652, 'footstool': 3653, 'log': 3654, 'challengerst': 3655, 'bot': 3656, '\\x93combat\\x94': 3657, 'catgirl': 3658, '\\x93am': 3659, 'toy': 3660, 'coffeemaestro': 3661, '0001f447': 3662, 'mayo': 3663, 'salty': 3664, 'payne': 3665, 'silent': 3666, 'hill': 3667, 'sperm': 3668, 'donor': 3669, 'clinic': 3670, 'thewpmontgomery': 3671, 'thatdudeshannon': 3672, 'graphics': 3673, '1matthewgarcia': 3674, 'zzcool': 3675, 'scarier': 3676, 'creatively': 3677, 'horror': 3678, 'dead': 3679, 'haunt': 3680, 'dreams': 3681, 'rakyll': 3682, 'p1agokwqpv': 3683, 'upgra\\x85': 3684, 'vrwvop79qd': 3685, 'bots': 3686, 'scrap': 3687, 'scrounged': 3688, 'spa\\x85': 3689, 'ywqqasrbt8': 3690, 'toyota': 3691, 'c7dfuastpm': 3692, 'bettern': 3693, 'nothin': 3694, '0001f6f0': 3695, 'capex': 3696, '2017': 3697, 'license': 3698, 'print': 3699, 'arctechinc': 3700, 'testers': 3701, 'autonomy': 3702, 'jet': 3703, 'humanity\\x92s': 3704, 'no1z98a94f': 3705, 'mine': 3706, 'settings': 3707, 'tone': 3708, 'intentionally': 3709, 'strident': 3710, 'vb4wd40bsc': 3711, 'form': 3712, 'website': 3713, 'beginnings': 3714, 'meaningful': 3715, 'fwd': 3716, 'situations': 3717, 'pace': 3718, 'improv\\x85': 3719, 'h2xcsvngdo': 3720, 'bart': 3721, 'sanders': 3722, 'command': 3723, 'applies': 3724, 'clock': 3725, 'countr\\x85': 3726, 'cjhtxcselt': 3727, '360': 3728, 'deg': 3729, 'tbd': 3730, 'improves': 3731, 'xmemo5nu0m': 3732, 'performance': 3733, 'issue': 3734, 'zk1vr9xwzl': 3735, 'upgrade': 3736, '2k': 3737, 'regulators': 3738, 'approve': 3739, 'differe\\x85': 3740, 'd4uoa1jncx': 3741, 'dependent': 3742, 'proving': 3743, 'intentional': 3744, 'theoretically': 3745, 'f\\x85': 3746, 'pczpbd8jj6': 3747, 'rubix161': 3748, 'gotta': 3749, '9qxyxmmiuj': 3750, 'ieeeorg': 3751, 'melty': 3752, 'achieve\\x85': 3753, 'pulpf49me1': 3754, 'encountering': 3755, '210': 3756, 'sea\\x85': 3757, 'rg2erwhznt': 3758, 'rollout': 3759, 'proceeding': 3760, 'mate': 3761, 'lockdowns': 3762, 'restriction\\x85': 3763, '0ct2svangy': 3764, '15': 3765, 'gy9a20ummx': 3766, 'joshtownsend': 3767, '96': 3768, 'juanjacobs': 3769, 'firmware': 3770, 'description': 3771, \"there's\": 3772, 'kansas': 3773, 'ranch': 3774, 'theirs': 3775, 'installed': 3776, 'mobility': 3777, 'neck': 3778, '2vcoaxsrv3': 3779, 'disc': 3780, 'c5': 3781, 'c6': 3782, '1st': 3783, 'failed': 3784, 'remov\\x85': 3785, 'czykfyo0ix': 3786, 'sequencing': 3787, 'code\\x85': 3788, 'y6gcysvghm': 3789, 'london': 3790, 'beijing': 3791, 'cinotpyrc': 3792, 'kid': 3793, 'møtør': 3794, 'trèndé': 3795, 'v0yo4jkbs2': 3796, 'snoopy': 3797, 'bamtheteslaman1': 3798, 'ice': 3799, 'europa': 3800, 'izk0v9gi47': 3801, 'sr': 3802, 'bevs': 3803, 'says': 3804, '7c0v16wt6y': 3805, 'creative': 3806, 'conveniently': 3807, 'second\\x85': 3808, '3r0owmreup': 3809, 'xbox': 3810, 'autodelete': 3811, 'seater': 3812, 'december': 3813, 'gauntlet': 3814, 'thrown': 3815, 'prophecy': 3816, 'fulfilled': 3817, '69': 3818, 'whoisheartbreak': 3819, '2z5mrscc4g': 3820, 'gem8mingen': 3821, 'diameter': 3822, 'roomy': 3823, 'pktdfdizyc': 3824, 'prufrock': 3825, 'touches': 3826, 'simplified': 3827, '1xhs2awxb9': 3828, 'sweet': 3829, 'antonkanerva': 3830, '\\x93what': 3831, 'hurt': 3832, '\\x94\\x97': 3833, 'winston': 3834, 'churchill': 3835, 'weak': 3836, 'turrets': 3837, 'allow': 3838, 'strategic': 3839, 'freedom': 3840, 'torb\\x92s': 3841, 'turret': 3842, 'goosebumps': 3843, 'merch': 3844, 'hg2g': 3845, 'lotr': 3846, 'illuminaughty': 3847, 'chotihaque': 3848, 'dougstanhope': 3849, 'bobdylan': 3850, 'charltonbrooker': 3851, 'ericidle': 3852, 'jimcarrey': 3853, 'johncleese': 3854, 'sapinker': 3855, 'knee': 3856, 'departed': 3857, 'last\\x85': 3858, 'chipro': 3859, 'outcomes': 3860, 'diess': 3861, 'tdf8u6nd4c': 3862, 'grief': 3863, 'ear\\x85': 3864, 'v37qm1kycr': 3865, 'maximums': 3866, 'wasn\\x92t': 3867, 'hit': 3868, 'ceiling': 3869, 'graph': 3870, 'upside': 3871, 'magnitude': 3872, 'element': 3873, 'productio\\x85': 3874, 'h8ps02oelk': 3875, 'configurator': 3876, 'tuesday': 3877, '4qrymb7ii0': 3878, 'soc\\x92s': 3879, 'sync': 3880, 'sec': 3881, 'exchanging': 3882, '9cbjmeaavw': 3883, 'computer\\x92s': 3884, 'socs': 3885, 'function': 3886, 'planes': 3887, 'nets\\x85': 3888, 'dfwlhxu7ce': 3889, 'ego': 3890, 'intelligence': 3891, 'mobileye\\x85': 3892, 'fdligohk01': 3893, 'ohiotesla': 3894, 'jendunlap': 3895, 'jen': 3896, 'lite\\x85': 3897, 'ghoisz1v6r': 3898, 'deal': 3899, 'advanc\\x85': 3900, 'hbtdtjyttc': 3901, 'face': 3902, 'dichotomy': 3903, 'resources': 3904, 'ne\\x85': 3905, '6qghblfrk8': 3906, 'plays': 3907, '\\x93poor': 3908, 'inventor\\x94': 3909, 'card': 3910, 'rich': 3911, '205zz8al33': 3912, 'sketchy': 3913, 'edits': 3914, 'wiki': 3915, 'whitewash': 3916, 'eberhard\\x92s': 3917, 'glorify': 3918, 'odd\\x85': 3919, 'ppsorkwdi8': 3920, 'fired': 3921, 'ceo': 3922, '8hj3vlxzfp': 3923, 'carrenimfa': 3924, 'cradvocacy': 3925, '\\x93the': 3926, 'compelling': 3927, 'evs': 3928, 'everyone\\x85': 3929, 'xlbidpmuuq': 3930, 'exact': 3931, 'failure': 3932, 'nursing': 3933, 'homes': 3934, 'countries\\x85': 3935, 'cmvdkmrish': 3936, 'bzc2lfdjzq': 3937, 'lgpvl7k1mi': 3938, 'mechanically': 3939, 'attached': 3940, 'whxamj12iq': 3941, 'be\\x85': 3942, 'xpnqrcxqnc': 3943, 'compilers': 3944, 'type': 3945, 'pointer': 3946, 'detected': 3947, 'n3rzp4udi1': 3948, 'pointier': 3949, 'motortrend': 3950, 'suv': 3951, 'do\\x97and': 3952, 'sdg2030': 3953, 'anandmahindra': 3954, 'metnigeorges': 3955, 'eriksolheim': 3956, 'berniehollywood': 3957, 'leads': 3958, 'proof': 3959, 'contest': 3960, 'crushes': 3961, '3d': 3962, 'printing': 3963, 'wel\\x85': 3964, 'uscsep00aq': 3965, 'farmerbob': 3966, 'pettit': 3967, 'astrokomrade': 3968, 'astroannimal': 3969, 'patreon': 3970, 'additive': 3971, 'costly': 3972, 'tooling': 3973, 'accel\\x85': 3974, 'z9kxjt9umj': 3975, 'starman': 3976, 'leaving': 3977, 'today\\x97within': 3978, '05': 3979, 'astronomical': 3980, 'mill\\x85': 3981, 'barked': 3982, 'gives': 3983, 'aigaenc8f0': 3984, 'provided': 3985, 'gear': 3986, 'autocoupler': 3987, 'specialized': 3988, 'lat\\x85': 3989, 'bbchdqhjja': 3990, 'akidesir': 3991, 'allowing': 3992, 'drop': 3993, 'arm\\x85': 3994, '9g2n7fvscz': 3995, 'mimecraft': 3996, 'complicated': 3997, 'aspiring': 3998, 'diverter': 3999, 'kyenxz94oy': 4000, 'balls': 4001, 'cakes': 4002, 'pastries': 4003, 'visit': 4004, 'denser': 4005, 'gnhci8reh3': 4006, 'tacheles': 4007, 'too\\x85': 4008, 'dsgvwdhgnv': 4009, 'döner': 4010, 'tribehoh': 4011, 'wastatecommerce': 4012, 'gantry': 4013, 'within\\x85': 4014, 'mieahkgnfo': 4015, 'absorption': 4016, 'replaced': 4017, 'bolted': 4018, 'collision': 4019, 'repair': 4020, 'battlestar': 4021, 'galactica': 4022, 'buil\\x85': 4023, 'hi2od05ye8': 4024, 'bonded': 4025, 'shear': 4026, 'nbzqekw0qx': 4027, 'competitive': 4028, 'chrysler': 4029, 'bankrupt': 4030, '2009': 4031, 'ford': 4032, 'ieaouisjri': 4033, 'agony': 4034, 'te\\x85': 4035, 'zhqxmco6gy': 4036, 'bringing': 4037, 'inspiration': 4038, '99': 4039, 'perspiration': 4040, 'st\\x85': 4041, 'g5dlcmg7wc': 4042, 'burdened': 4043, 'ta\\x85': 4044, 'o1ojwfj2zg': 4045, 'lfp': 4046, 'stationary': 4047, 'castings': 4048, 'pteaj9z79i': 4049, 'spreadsheets': 4050, 'making\\x85': 4051, 'lckxzfpozx': 4052, 'absolute': 4053, 'afru9adajy': 4054, 'succeeded': 4055, 'le\\x85': 4056, '2wyticewfr': 4057, 'shots': 4058, 'sooner': 4059, 'mdcainjr': 4060, '45thspacewing': 4061, 'photo': 4062, '43rd': 4063, 'flown': 4064, 'target': 4065, 'fairly': 4066, '2klhnfmgz1': 4067, 'x83ovjb4pa': 4068, 'boosters': 4069, 'reflig\\x85': 4070, 'zugaquvpy7': 4071, 'turnaround': 4072, 'meet': 4073, 'demand': 4074, 'yxmoofzu8n': 4075, 'awxtjefc2d': 4076, '4th': 4077, 'uotvmkgxqh': 4078, 'on2f1py5jt': 4079, 'subsidize': 4080, 'pollution': 4081, 'dense': 4082, 'heavy\\x85': 4083, 'ackoizwcpw': 4084, '2026': 4085, 'ro\\x85': 4086, '6hvvkuqdon': 4087, 'powerglide': 4088, 'l07yc02p7g': 4089, 'louder': 4090, 'ab5hamo3en': 4091, 'writers': 4092, 'foundation': 4093, 'outstanding': 4094, 'orionsgauntlet': 4095, 'christianserino': 4096, 'glnevuneyl': 4097, 'rewatched': 4098, 'young': 4099, 'frankenstein': 4100, 'ovaltine': 4101, 'wimdyfsuiq': 4102, 'remake': 4103, 'liked': 4104, 'hollywood': 4105, 'sequel': 4106, 'skip': 4107, 'financials': 4108, 'presently': 4109, 'stevenmarkryan': 4110, '8pqh2kalcf': 4111, '\\x93a': 4112, 'shortfall': 4113, 'gravitas\\x94': 4114, 'escape': 4115, 'holes': 4116, 'model3teslaj': 4117, 'booty': 4118, 'hyfszsrm6m': 4119, 'vector': 4120, 'bird\\x92s': 4121, 'unexpected': 4122, 'turbomachinery': 4123, 'broad': 4124, 'propulsion': 4125, 'structures': 4126, 'av\\x85': 4127, 'nkfvidsxpp': 4128, 'alandail': 4129, 'lex': 4130, 'mike94160775': 4131, 'sofiaan': 4132, 'amoghbhushan': 4133, 'zfbqlhxk3f': 4134, 'spacexstarlink\\x85': 4135, 'hscbef8mnf': 4136, 'browns\\x85': 4137, 'ggoesdif2j': 4138, 'sat\\x85': 4139, 'piqitzeia5': 4140, 'etjxxiv2vq': 4141, 'design\\x85': 4142, 'r4rrgvpvr0': 4143, 'tanker': 4144, 'smk67d3fmx': 4145, 'esp\\x85': 4146, 'bqfd2kwhbn': 4147, 'adlanbogatyryov': 4148, 'increasingl\\x85': 4149, 'xkwyon48io': 4150, 'rings': 4151, 'thicker': 4152, 's4itp647wo': 4153, 'fox10phoenix': 4154, 'officialalishap': 4155, 'mom': 4156, 'zshauladventure': 4157, 'natreconofc': 4158, 'inspiring': 4159, 'somi': 4160, 'teslagirl': 4161, 'rj35a3vluf': 4162, 'circumferentia\\x85': 4163, '6ottsix8af': 4164, '7elp9pf9sl': 4165, 'suspect': 4166, 'cas\\x85': 4167, 'pmyscvzozy': 4168, 'weld': 4169, 'upcoming': 4170, 'showers': 4171, 'simultaneously': 4172, 'arrives': 4173, 'magenta': 4174, 'spotlights': 4175, 'kathylueders': 4176, '40am': 4177, '31': 4178, 'ast\\x85': 4179, 'vm': 4180, 'one1': 4181, 'kh4qryrkoe': 4182, 'perezshivam': 4183, 'loooves': 4184, 'prioritizing': 4185, 'emergency': 4186, 'responders': 4187, '20m': 4188, '2030': 4189, 'gxnszacar3': 4190, 'cashmoneylemon': 4191, 'seven': 4192, '30m': 4193, 'five': 4194, 'ye\\x85': 4195, 'fy4nwwbx56': 4196, 'aren\\x92t': 4197, 'cutting': 4198, '25k': 4199, 'referring': 4200, 'heide': 4201, 'paintball': 4202, 'gun': 4203, 'mounted': 4204, 'bed': 4205, 'pickenheim': 4206, 'matthew': 4207, 'kerle': 4208, 'suppliers': 4209, 'ourselves': 4210, 'presenta\\x85': 4211, 'l8pv6okpky': 4212, 'r1sox7vta8': 4213, 'drsallyl': 4214, 'sydney': 4215, 'teslatom': 4216, 'teslastraya': 4217, 'outbacktesla': 4218, 'outback': 4219, 'michael01996367': 4220, 'cvanderstock\\x85': 4221, 'quf0hh8qcg': 4222, 'totally': 4223, 'driven': 4224, 'gearbox': 4225, 'hydraulics': 4226, 'accommodating': 4227, 'ppzzhxbxgp': 4228, 'living': 4229, 'dilbert': 4230, 'cartoon': 4231, 'artifactshub': 4232, 'species': 4233, 'stood': 4234, '304l': 4235, 'broke': 4236, '304': 4237, 'interface': 4238, 'will\\x85': 4239, 'wpeprv5s4r': 4240, 'differential': 4241, 'ullage': 4242, 'it\\x92\\x85': 4243, 'qvgkyw2qd0': 4244, 'drawing': 4245, 'headers': 4246, 'se\\x85': 4247, 'pgzafesc7x': 4248, 'gdxmbzx0ct': 4249, 'v6us36yho6': 4250, 'interstellar': 4251, 'mapping': 4252, 'acceleration': 4253, 'probe': 4254, 'imap': 4255, 'researchers': 4256, 'better\\x85': 4257, 'munroassociates': 4258, 'darealwamos': 4259, 'typewriter': 4260, 'kaarajvl2b': 4261, 'centaur': 4262, 'bow': 4263, 'obviously': 4264, 'cfkfkffxp0': 4265, 'ndvuumms67': 4266, 'wheel': 4267, '9007mm': 4268, 'appealing': 4269, 'hawking': 4270, 'hartle': 4271, 'turok': 4272, 'feldbrugge': 4273, 'lehners': 4274, 'algo': 4275, 'practical': 4276, 'constraints': 4277, 'fit': 4278, 'axz1yheldj': 4279, 'area': 4280, 'de\\x85': 4281, '0gutz4kgij': 4282, 'gzljmnyciu': 4283, 'preburners': 4284, 'ignite': 4285, 'prediction': 4286, 'inaccurate': 4287, 'besides': 4288, 'podcastnotes': 4289, 'genetic': 4290, '107': 4291, 'development': 4292, 'facility': 4293, 'mcgregor': 4294, 'http\\x85': 4295, 'xqipquy4pl': 4296, 'ludicrous': 4297, 'rhuwk20egg': 4298, 'opposite': 4299, 'openai': 4300, 'microsoft': 4301, 'oneandonlyheady': 4302, 'jets': 4303, '1stprinciples4l': 4304, 'yahoo': 4305, 'atv': 4306, '4aq1a5cykh': 4307, 'challenging': 4308, 'ygde1oszxa': 4309, 'umutcnbostanci': 4310, 'irl': 4311, 'drove': 4312, 'plus': 4313, '422': 4314, '430': 4315, 'explain\\x85': 4316, 'difficulty': 4317, 'harder\\x85': 4318, 'mcxxfnsqfj': 4319, 'intend': 4320, 'purchases': 4321, 'panasonic': 4322, 'lg': 4323, 'catl': 4324, 'partners': 4325, 'fl4lwcp3q0': 4326, 'unveil': 4327, 'affects': 4328, 'cybertr\\x85': 4329, 'fo4xhxas9q': 4330, 'fold': 4331, 'force': 4332, 'dynlt5ekgk': 4333, 'surfer': 4334, 'autocorrect': 4335, 'lorenzoteixeir4': 4336, 'igorantarov': 4337, 'bus': 4338, 'web': 4339, 'nets': 4340, 'chop': 4341, '16': 4342, 'mlpvbpni4y': 4343, 'oicfjt3gna': 4344, 'llamaa35079089': 4345, 'waypoints': 4346, 'truncating': 4347, 'bixl4qih22': 4348, 'babytesla3': 4349, 'green': 4350, 'continuous': 4351, '\\x93open\\x94': 4352, 'areas\\x85': 4353, 'rabjkrtqlw': 4354, 'savedtesla': 4355, 'shaped': 4356, 'diamond': 4357, 'aligned': 4358, 'record': 4359, 'achievement': 4360, 'experience': 4361, 'on\\x85': 4362, 'wzaddnxmid': 4363, 'incorrectly': 4364, 'overlooked': 4365, 'declined': 4366, 'lmk': 4367, 'hp3822z0dg': 4368, 'felt': 4369, 'zip2': 4370, 'paypal': 4371, 'would\\x85': 4372, 'ctbfloi1so': 4373, 'utterly': 4374, 'probabilities': 4375, 'worth\\x85': 4376, 'cn2bfbua5q': 4377, 'irrational': 4378, 'funny': 4379, 'numbers': 4380, 'deborahpatteri': 4381, 'chrisdungeon': 4382, 'speedrunning': 4383, 'factorio': 4384, 'points': 4385, 'iron\\x92s': 4386, 'partly': 4387, 'offset': 4388, 'by\\x85': 4389, 'nez5hkuc4a': 4390, 'coderfoot': 4391, 'tap': 4392, 'implicit': 4393, 'conflation': 4394, 'capital': 4395, 'foundational': 4396, 'radio': 4397, 'gno8xfjx8b': 4398, 'tjlk': 4399, 'eerie': 4400, 'parallels': 4401, 'tec': 4402, 'demonstration': 4403, 'doubles': 4404, 'underground': 4405, 'nuclear': 4406, 'cvi0yrjobe': 4407, 'obscure': 4408, 'starhammer': 4409, 'stainless': 4410, 'rat': 4411, 'parrot': 4412, 'remind': 4413, 'guys': 4414, 'qt502u08np': 4415, 'vn0rv0yq5q': 4416, 'warp': 4417, 'vega\\x85': 4418, 'wizyhed6pa': 4419, 'hugged': 4420, 'aurmanark': 4421, 'gary': 4422, 'snail': 4423, 'gaining': 4424, 'him': 4425, 'embrace': 4426, 'depth': 4427, 'lqfdqwhh2g': 4428, 'matthewcable6': 4429, 'teens': 4430, 'stacking': 4431, 'limiti\\x85': 4432, 'atqpexe6dk': 4433, 'craters': 4434, 'behind\\x85': 4435, 'wvqfq4oqua': 4436, 'smartwatches': 4437, 'committed': 4438, 'digs': 4439, 'historyinpics': 4440, 'lego': 4441, 'dry': 4442, '46lbcix7fi': 4443, 'wearing': 4444, 'cumulative': 4445, 'correc\\x85': 4446, '8lcu71xzvm': 4447, 'anyone': 4448, 'tonnage': 4449, 'excitement': 4450, 'greater': 4451, 'brownsville': 4452, 'checkouts': 4453, 'boat': 4454, 'insight': 4455, 'frames': 4456, 'stitched': 4457, 'frame': 4458, 'tricky': 4459, 'overlap': 4460, 'ways\\x85': 4461, 'yzcixdgm38': 4462, 'opt': 4463, 'oycpr9i9hq': 4464, 'dramatically': 4465, 'aka': 4466, 'simultaneous': 4467, 'richardreinariv': 4468, 'clue': 4469, 'astra': 4470, 'you\\x92ll': 4471, 'figure': 4472, 'unveiled': 4473, 'ostimusic': 4474, 'hvac': 4475, 'reich': 4476, 'cares': 4477, 'global': 4478, 'warming': 4479, 'natürlich': 4480, 'bitte': 4481, 'arbeiten': 4482, 'sie': 4483, 'bei': 4484, 'es': 4485, 'wird': 4486, 'spaß': 4487, 'machen': 4488, 'fcnopr2oii': 4489, 'monicalewinsky': 4490, 'prefer': 4491, 'subaru': 4492, 'vera': 4493, 'rubin': 4494, 'observatory': 4495, 'charliemunger00': 4496, 'munger': 4497, 'f8rwy4exee': 4498, 'scholes': 4499, 'formula': 4500, 'approximation': 4501, 'pure': 4502, 'math': 4503, 'startups': 4504, 'series': 4505, 'increasingly\\x85': 4506, 'zynsxisp4n': 4507, 'productivity': 4508, 'caliber': 4509, 'talent': 4510, 'hospital': 4511, 'grade': 4512, 'healt\\x85': 4513, 'ytsk3lmfii': 4514, 'klee': 4515, 'filmreview': 4516, 'ramps': 4517, 'hiring': 4518, 'york': 4519, 'accelerated': 4520, 'iha2drewu0': 4521, 'touché': 4522, 'compensation': 4523, 'proportionately': 4524, 'moron': 4525, 'onboard': 4526, '2iezyiyyg5': 4527, 'mstrofuniverse': 4528, 'rawlinson': 4529, 'joined': 4530, 'lurch': 4531, 'oy9yvm84xm': 4532, 'milled': 4533, 'copper': 4534, 'ja\\x85': 4535, 't8d3yn4xry': 4536, 'comme': 4537, 'à': 4538, 'bnordhaug': 4539, 'tweeting': 4540, 'bombard': 4541, 'photons': 4542, 'emits': 4543, 'ak': 4544, 'bidirectional': 4545, 'lo\\x85': 4546, 't42iuazmwh': 4547, 'articles': 4548, 'gimbal': 4549, 'noting': 4550, 'primarily\\x85': 4551, 'kiegovt0rd': 4552, 'shipped': 4553, 'dev\\x85': 4554, 'chart': 4555, 'understates': 4556, 'ion': 4557, 'rated': 4558, '26dagjltdy': 4559, 'fjdhqrdvdb': 4560, 'curevacrna': 4561, 'flew': 4562, 'asimilar': 4563, 'smoother': 4564, 'mannschaft': 4565, 'vielen': 4566, 'für': 4567, 'ihre': 4568, 'hervorragende': 4569, 'arbeit': 4570, 'kvo5mbfnxt': 4571, 'sara': 4572, 'boutall': 4573, 'ddbxiodog1': 4574, 'stznan3vtx': 4575, 'stefantpeterson': 4576, 'trust': 4577, 'butt': 4578, '0001f353': 4579, 'picking': 4580, 'result': 4581, 'strawberry': 4582, 'fields': 4583, 'forever': 4584, '5z9p2upkqs': 4585, 'alarms': 4586, 'resonant': 4587, 'modes': 4588, 'arise': 4589, 'hav\\x85': 4590, 'ssaqzj8act': 4591, 'videodrome': 4592, '0ckvhrmtf1': 4593, 'qobvxgq8fz': 4594, 'momentinertiaphobia': 4595, 'booster\\x92s': 4596, 'fourth': 4597, 'tutackmifn': 4598, 'frydave': 4599, 'youyanggu': 4600, 'dfisman': 4601, 'lhc': 4602, 'ovaohsg1of': 4603, 'accelerator': 4604, 'straight': 4605, 'circular': 4606, 'returns': 4607, 'zon\\x85': 4608, 'gqtxqmpy48': 4609, '0y5fkvqpk8': 4610, 'aiwrmzb3d1': 4611, 'vitalvegas': 4612, 'snout': 4613, 'boops': 4614, 'zjogq2ulvf': 4615, 'law': 4616, 'else': 4617, 'recommendation': 4618, 'ixhyt6nuic': 4619, 'printers': 4620, 'ip': 4621, 'x32sda871g': 4622, 'james': 4623, 'measured': 4624, 'rounded': 4625, 'vnko0mtruc': 4626, 'alexander': 4627, 'hellenism': 4628, 'film': 4629, 'studies': 4630, 'loved': 4631, 'astronomy': 4632, 'queens': 4633, 'class\\x85': 4634, 'o4fjcglahw': 4635, 'mutual': 4636, 'friend': 4637, 'caltech': 4638, 'cern': 4639, 'ba\\x85': 4640, 'tjsh1exz1q': 4641, 'embarrassing': 4642, 'homework': 4643, 'ruskin147': 4644, 'academia': 4645, 'overweight': 4646, 'underweight': 4647, 'bringing\\x85': 4648, 'offoojcqnv': 4649, 'l': 4650, 'vaux': 4651, 'unlikely': 4652, 'alone': 4653, 'g7vxpupkvn': 4654, 'headed': 4655, 'convers\\x85': 4656, 'qqdcdov2jo': 4657, 'antibody': 4658, 'harvard\\x85': 4659, 'dyl0p8xvuf': 4660, 'hospitalized': 4661, 'condition': 4662, 'he\\x85': 4663, 'unjgvlveuk': 4664, 'initially': 4665, 'including': 4666, 'fro\\x85': 4667, 'by0oophpp7': 4668, 'o2qpnv2qry': 4669, 'predicting': 4670, 'can\\x85': 4671, 'i2rrglbx8j': 4672, 'blanket': 4673, 'events': 4674, 'boost\\x85': 4675, 'vv2agje8mw': 4676, 'versions': 4677, 'syntax': 4678, 'improved': 4679, 'avoids': 4680, 'class': 4681, 'warfare': 4682, 'nightcap': 4683, 'conceptual': 4684, 'telepathy': 4685, 'fantasize': 4686, '1880s': 4687, 'edison\\x92s': 4688, 'ecghh5ston': 4689, '\\x93all': 4690, 'rutherford': 4691, 'gap': 4692, 'experimental': 4693, 'patients': 4694, 'wid\\x85': 4695, 'f0fib1w94z': 4696, 'shorter': 4697, 'length': 4698, 'demo': 4699, 'y9wred78oj': 4700, '230': 4701, 'pounds': 4702, 'peak': 4703, 'wit\\x85': 4704, '1spnwbelpa': 4705, 'slip': 4706, 'october': 4707, 'progre\\x85': 4708, 'cjsgr0sjit': 4709, 'zeitmas': 4710, 'comes': 4711, 'reasonable': 4712, 'drone': 4713, 'hspkw3zk1y': 4714, 'hardworking': 4715, 'attack': 4716, 'brave': 4717, 'starhopper': 4718, 'carried': 4719, 'itmotivatesus': 4720, '19h4u8ta2a': 4721, 'obtuse': 4722, 'folded': 4723, 'alexczij1l': 4724, 'surprised': 4725, 'silicon': 4726, 'anode\\x85': 4727, 'oohnzzeh9v': 4728, 'leave': 4729, 'parents': 4730, 'bang': 4731, 'started': 4732, 'xvvcualz2o': 4733, '8r92iexvvn': 4734, 'asimov': 4735, 'proportionate': 4736, 'olde': 4737, 'skoole': 4738, 'analog': 4739, 'synthesizer': 4740, 'britain': 4741, 'jg0fi3chxc': 4742, 'woiwia7ztn': 4743, 'calm': 4744, 'stays': 4745, 'brake': 4746, 'lights': 4747, 'miniverse': 4748, 'microverse': 4749, 'aduotl537t': 4750, 'focused': 4751, 'lengthy': 4752, 'z2yfaupdrd': 4753, 'friday': 4754, '3pm': 4755, 'pacific': 4756, 'poulbrgzfu': 4757, 'astronaughty': 4758, 'get\\x85': 4759, 'toysp1ukif': 4760, 'plant': 4761, 'enou\\x85': 4762, '1tukv0hvig': 4763, 'candy': 4764, 'frozen': 4765, 'densify': 4766, 'atmosphere': 4767, 'solvable': 4768, 'northern': 4769, 'reliably': 4770, 'zcnw4z3nxh': 4771, 'gpus': 4772, 'cores': 4773, 'sup\\x85': 4774, 'l8xese456a': 4775, 'addicted': 4776, 'occasional': 4777, 'frequent': 4778, 'daily': 4779, '30km': 4780, '5lliqzacuu': 4781, 'coach23life': 4782, 'warn': 4783, 'dug': 4784, '400': 4785, 'wh': 4786, 'cycle': 4787, 'zenit': 4788, 'spaceports': 4789, '\\x93most': 4790, 'satisfying\\x94': 4791, 'ages': 4792, 'reveals': 4793, 'ka0iha7z6c': 4794, 'xuzmulvfhf': 4795, 'metaphor': 4796, 'cdll4ielju': 4797, 'jaxzin': 4798, 'flowing': 4799, 'grateful': 4800, '162': 4801, 'uninterrupted': 4802, 'calculation': 4803, 'sensors': 4804, 'darpa': 4805, 'zbdygouhsz': 4806, 'hkpwjnxsfc': 4807, 'strikes': 4808, 'sinan25': 4809, 'noise': 4810, 'gotten': 4811, 'recently': 4812, 'dami': 4813, 'kolz09': 4814, 'jussiwen': 4815, 'hardcore': 4816, 'aber': 4817, 'vielleicht': 4818, 'ein': 4819, 'bisschen': 4820, 'fahrstuhlmusik': 4821, 'auf': 4822, 'der': 4823, 'toilette': 4824, 'feature': 4825, 'polynesian': 4826, 'speakers': 4827, 'bki5sooroe': 4828, 'achieved': 4829, 'perpetuating': 4830, 'autocracy': 4831, 'farcical': 4832, 'aquatic': 4833, 'ceremony': 4834, 'king': 4835, 'chosen': 4836, 'democracy': 4837, 'comprehensible': 4838, 'voted': 4839, 'ywlqux5rbv': 4840, 'simon': 4841, 'garfunkel': 4842, 'lyrics': 4843, 'bureaucracy': 4844, 'inherently': 4845, 'kafkaesque': 4846, 'geffenavraham': 4847, 'bryanflanks': 4848, 'spellmender': 4849, 'vladkarmon': 4850, 'ulaengineer': 4851, '0001f446': 4852, 'ztrmvq6wvx': 4853, 'president': 4854, '2024': 4855, 'wo34fhkugu': 4856, 'hydrocarbons': 4857, 'combustion': 4858, 'temperature': 4859, 'everydayelon': 4860, 'daniellefong': 4861, 'experience\\x85': 4862, 'ezlaxwg3rp': 4863, 'lease': 4864, 'payment': 4865, 'expec\\x85': 4866, 'vae3ppljox': 4867, 'push': 4868, 'replace': 4869, 'individual': 4870, 'like\\x85': 4871, 'fdnxdwh4et': 4872, 'whenever': 4873, 'y5db5mkzpu': 4874, '0001f3dd': 4875, 'cavalier': 4876, 'possi\\x85': 4877, '3dhapzhixh': 4878, 'humidity': 4879, 'int\\x85': 4880, 'xepds9ituw': 4881, 'power\\x85': 4882, 'tsbttiduhj': 4883, 'scorcher': 4884, 'vi': 4885, '34o80p1hi6': 4886, 'antonioetayo': 4887, 'underrated': 4888, 'counter': 4889, 'intuitive': 4890, 'cagyh9nnd0': 4891, 'supercharging': 4892, 'leasing': 4893, 'gyfbe\\x85': 4894, 'payload': 4895, 'recovery': 4896, 'refurb': 4897, 'sqgxv49yrs': 4898, 'zubinanary': 4899, 'nuts': 4900, 'adults': 4901, 'squeeze': 4902, 'flamethrowers': 4903, 'dof': 4904, 'compression': 4905, 'ukly4dwqur': 4906, 'davidgokhshtein': 4907, 'aloha': 4908, 'xwpn09wtaw': 4909, 'krystof': 4910, 'mitka': 4911, '\\x93worst': 4912, 'with\\x94': 4913, 'champions': 4914, 'vying': 4915, 'title': 4916, 'chute': 4917, 'locally': 4918, 'operating': 4919, 'ms': 4920, 'catches': 4921, 'sqlj63netb': 4922, '0001f610': 4923, 'valleyhack': 4924, 'geoffdbarrett': 4925, 'somewhere': 4926, 'cruising': 4927, 'pcybhfpuad': 4928, 'natgeo': 4929, 'spendg8': 4930, 'spit': 4931, 'dirt': 4932, 'swiftly': 4933, 'becoming': 4934, 'percentage': 4935, 'compute': 4936, 'programmerdude': 4937, 'demonstrated': 4938, '225': 4939, 'actually\\x85': 4940, '44fge3giee': 4941, 'adamblitzer': 4942, 'sn40': 4943, 'vk8nzlr0sz': 4944, 'exploding': 4945, 'kvkrwksvab': 4946, '20km': 4947, 'naked': 4948, 'there\\x92\\x85': 4949, 'up3t8ow5tf': 4950, 'sting': 4951, '\\x93early': 4952, 'investor\\x94': 4953, 'worst': 4954, 'ever\\x85': 4955, 'xvuoeig9ex': 4956, 'intersect': 4957, 'observed': 4958, 'mezrzcnewo': 4959, '6vz4xnohf9': 4960, 'stevestuwill': 4961, 'jagarikin': 4962, 'buddies': 4963, 'twiddling': 4964, 'f2rxgcz964': 4965, '\\x93tanks': 4966, 'memery\\x94': 4967, 'milestones': 4968, 'k3v3yddg6j': 4969, 'awardsdarwin': 4970, 'euricsanti': 4971, 'luisabinader': 4972, 'honored': 4973, 'cowderysedge': 4974, 'billratchet': 4975, 'begging': 4976, 'history': 4977, 'victors': 4978, 'barbie': 4979, 'plural': 4980, 'cyber': 4981, 'filter': 4982, 'dm76fjq3hx': 4983, 'rami': 4984, 'robertdowneyjr': 4985, 'crysis': 4986, 'exaflop': 4987, 'fudge': 4988, 'consistency': 4989, 'melting': 4990, 'smoosh': 4991, 'mdopo17yb9': 4992, '326rkueyw8': 4993, 'hands': 4994, 'km': 4995, '38fzby8pno': 4996, 'realwillreil': 4997, 'hasty': 4998, 'wzg16taxee': 4999, 'trapped': 5000, 'images': 5001, 'uncorrelate\\x85': 5002, 'w1goo6etzh': 5003, 'insights': 5004, 'lqnken5kjn': 5005, 'palo': 5006, 'alto': 5007, 'seattle': 5008, 'remotely': 5009, 'candidates': 5010, 'vtol': 5011, 'sooo': 5012, 'overload': 5013, 'asteroid': 5014, 'impact': 5015, 'worry': 5016, 'patch': 5017, 'p2ic1crpef': 5018, 'alesssj4': 5019, 'recent': 5020, '6gbxaxtn4a': 5021, 'embarrassingly': 5022, 'late': 5023, 'authentication': 5024, 'sms': 5025, 'raxdlk9jti': 5026, 'bennettm': 5027, 'bumps': 5028, 'potholes': 5029, 'steer': 5030, 'perfectly': 5031, '3s2xzanace': 5032, 'xpx7j5snpy': 5033, 'quantum': 5034, 'leap': 5035, 'architectural': 5036, 'rewrite': 5037, 'k2cb4nimiy': 5038, 'aipo9gd8ek': 5039, 'simultaneously\\x85': 5040, 'jjunwv2j94': 5041, 'n2': 5042, 'chrome': 5043, 'aluminum': 5044, 'iaqicetdoa': 5045, 'lukeprog': 5046, 'odds': 5047, 'viktaur27': 5048, 'improvement\\x85': 5049, 'ktppercwt5': 5050, '23': 5051, 'psyche': 5052, 'zkoi8fpvzz': 5053, 'utility': 5054, 'restored': 5055, 'powerpack': 5056, 'megapack': 5057, 'certainly\\x85': 5058, '712znztmbj': 5059, 'wil\\x85': 5060, 'u2wi4cgi5t': 5061, 'pantsbobsponge': 5062, 'andyjstanton': 5063, 'substantial': 5064, 'underpayment': 5065, 'ula': 5066, 'madness': 5067, 'boeing': 5068, 'lockheed': 5069, 'suggest': 5070, 'buying': 5071, 'airplanes': 5072, 'generally': 5073, 'patents': 5074, 'efficiently': 5075, '\\x93space': 5076, 'power\\x94': 5077, 'becau\\x85': 5078, 'alg6ue95ve': 5079, 'mwzjylhd88': 5080, 'renarddemoscou': 5081, 'toastier': 5082, 'hex': 5083, 'mounting': 5084, 'sections': 5085, 'xniptypahf': 5086, 'sn7': 5087, 'taken': 5088, '8bvrd5vdu7': 5089, 'wear': 5090, 't0snf4ugyk': 5091, 'channel': 5092, 'herb': 5093, 'tarlek': 5094, 'wkrp': 5095, '0rc72s0zay': 5096, 'fabulous': 5097, 'jacket': 5098, 'gingham': 5099, 'combo': 5100, 'peaks': 5101, 'mom\\x92s': 5102, 'cousin\\x92s': 5103, 'farm': 5104, 'saskatchewan': 5105, 'age': 5106, 'barn': 5107, 'raising': 5108, 'y7lrlouxr9': 5109, 'leg': 5110, 'flies': 5111, 'need\\x85': 5112, 'cgxsnck6uv': 5113, 'clearly': 5114, 'puts': 5115, 'superheavy': 5116, 'fat\\x85': 5117, 'ramacvr': 5118, 'shares': 5119, 'ownership': 5120, 'diluted': 5121, 'from\\x85': 5122, 'aqgi0cu2hn': 5123, 'theplanetaryguy': 5124, 'amaze': 5125, 'astronomer': 5126, 'koet': 5127, 'saturn': 5128, 'appearing': 5129, 'wonder': 5130, 'reads': 5131, 'advance\\x85': 5132, 'vc6isfxioz': 5133, 'oil': 5134, 'distract': 5135, 'ptawt9dhhc': 5136, 'siconik1': 5137, 'includes': 5138, 'paid': 5139, 'iakln5fvpb': 5140, 'velociraptor': 5141, '2m': 5142, 'veloci': 5143, 'par': 5144, 'dlmy5rybrk': 5145, '122m': 5146, '394': 5147, 'failing': 5148, 'elderly': 5149, 'recognize': 5150, 'kogvn4rmj8': 5151, 'pa8sgepv9y': 5152, 'increasingly': 5153, 'szo3thmxqa': 5154, 'glz28kfvhu': 5155, 'iafpj491zz': 5156, 'iwvwca05hl': 5157, 'hops': 5158, 'smooth': 5159, 'ebelardo73': 5160, 'taller': 5161, 'cgeweqny7s': 5162, 'accelerating': 5163, '150': 5164, 'sn27': 5165, 'fact': 5166, 'scrubbed': 5167, 'triggering': 5168, 'automatic': 5169, 'abo\\x85': 5170, 'qddlnxfgjg': 5171, 'room': 5172, '33': 5173, 'reallifestarman': 5174, '\\x93we': 5175, 'make\\x85': 5176, 'confess': 5177, 'occasionally': 5178, 'pontificating': 5179, 'concept': 5180, 'recommended': 5181, 'assured': 5182, 'anybody': 5183, 'touched': 5184, 'cherish': 5185, 'touching': 5186, 'j\\x85': 5187, 'dm': 5188, 'conference': 5189, '45pm': 5190, 'qpe\\x85': 5191, 'crewed': 5192, '0001f1fa': 5193, '0001f1f8': 5194, 'returned': 5195, '0vas3cck9p': 5196, 'acquisition': 5197, 'atmospheric': 5198, 'zealand': 5199, 'florida': 5200, 'dzfr5bnbff': 5201, 'prove': 5202, 'propulsive': 5203, 'thruster\\x85': 5204, '941a2odu5h': 5205, 'meier1028': 5206, 'natalcicuto': 5207, 'teslaforthe': 5208, 'spend': 5209, 'homeland': 5210, 'monitor': 5211, 'ea14fozdo8': 5212, 'splash': 5213, 'engineeringvids': 5214, 'simplest': 5215, 'satisfying': 5216, 'accidents': 5217, '530': 5218, '479': 5219, '000\\xa0miles': 5220, 'nnbetmy1tr': 5221, 'q2': 5222, 'c7no6bbwgc': 5223, '0001f9d9': 5224, '2642': 5225, 'xxvcwmrtws': 5226, 'lasting': 5227, 'incredibly': 5228, 'le3r20bwid': 5229, 'sunday\\x85': 5230, \"they're\": 5231, '0001f30e': 5232, '0001fa82': 5233, 'dra\\x85': 5234, 'pyramid': 5235, 'tallest': 5236, '3800': 5237, 'eight': 5238, 'hundred': 5239, '6du46embni': 5240, 'ramses': 5241, '0001f60e': 5242, 'pyramids': 5243, 'egypt': 5244, 'stands': 5245, 'notch': 5246, 'witch': 5247, 'logic': 5248, 'o5xaopsnw1': 5249, 'granted': 5250, 'burned': 5251, 'stake': 5252, 'witchcraft': 5253, 'lo': 5254, 'que': 5255, 'construimos': 5256, '2yg5gatgv9': 5257, '8lpvwbec4r': 5258, '150m': 5259, 'eclipse': 5260, 'n8djdlknbe': 5261, 'lnterestingmaps': 5262, '0001f62e': 5263, 'aware': 5264, 'hearing': 5265, 'frequencies': 5266, 'amplitudes': 5267, 'brains': 5268, 'remo\\x85': 5269, 'c3o4rravz8': 5270, 'shunt': 5271, 'cortex': 5272, 'microcontrollers': 5273, 'hppvgjfhms': 5274, 'neurons': 5275, '28th': 5276, 'ky8h0oyzyx': 5277, 'touch': 5278, 'kmassjctix': 5279, 'jelle56367384': 5280, 'anvithvittal': 5281, 'dnpthree': 5282, 'tiesto': 5283, 'adagio': 5284, 'strings': 5285, 'rgy1p1vgou': 5286, '9hoy0ldzg4': 5287, 'eurosandor': 5288, 'rsprachrohr': 5289, 'mein': 5290, 'herz': 5291, 'brennt': 5292, 'boss': 5293, 'battle': 5294, 'jil6vzhqax': 5295, 'died': 5296, 'arms': 5297, 'bill': 5298, 'gates': 5299, 'lovers': 5300, 'untrue': 5301, '5lpnpltp24': 5302, 's8mdwgcdfg': 5303, 'rabies': 5304, 'it\\x85': 5305, 'fsf77xhiii': 5306, '0kaav0dtnn': 5307, 'billy': 5308, 'lover': 5309, 'mkarolian': 5310, 'letting': 5311, 'dig': 5312, 'greendragonbot': 5313, 'sum': 5314, 'trillions': 5315, 'secret': 5316, 'sam': 5317, 'lopezxx': 5318, 'supplying': 5319, 'powertrains': 5320, 'accelera\\x85': 5321, '5t9vgklwda': 5322, 'monopolist': 5323, 'corporation': 5324, 'rodamn': 5325, 'bernie': 5326, 'adojs2uce3': 5327, 'feeling': 5328, 'bern': 5329, 'tvc': 5330, 'hydraulic': 5331, 'behavior': 5332, 'connector': 5333, 'damaged': 5334, 'storm': 5335, 'fb7e5noq2e': 5336, 'prisonplanet': 5337, 'whether': 5338, 'monopolies': 5339, 'kapital': 5340, 'nutshell': 5341, 'mg44mmkitx': 5342, 'anthm17': 5343, 'humor': 5344, 'beer': 5345, 'ik3tt1x4wp': 5346, 'onion': 5347, 'rose': 5348, 'dropped': 5349, 'pick': 5350, 'energetic': 5351, 'wallpapers': 5352, 'adventure': 5353, 'hotdtlpdpw': 5354, 'prefabricated': 5355, 'method\\x85': 5356, 'x2drfewial': 5357, 'decade': 5358, 'beat': 5359, 'br': 5360, 'ufay65lzjj': 5361, 'avrwc': 5362, 'claire': 5363, 'wj4ydjglsh': 5364, 'spotted': 5365, 'ca\\x85': 5366, 'kq81cqogfl': 5367, 'whoa': 5368, 'mattiecola': 5369, 'brinell': 5370, 'hardness': 5371, 'corrosion': 5372, 'resistance': 5373, 'cybertruck\\x92s': 5374, 'faceted\\x85': 5375, 'dnkkgadjq4': 5376, 'turning': 5377, 'shade': 5378, 'ccsakuras': 5379, 'emkzcfgarz': 5380, 'auto': 5381, 'ep': 5382, '3lc3l2rgcj': 5383, 'l65zaxyctr': 5384, 'gsj3np4cap': 5385, 'iliketeslas': 5386, 'bolivia': 5387, '0001f1e7': 5388, '0001f1f4': 5389, 'whom': 5390, 'toppled': 5391, 'bolivian': 5392, 'yc5gaa12dw': 5393, 'karaswisher': 5394, 'kara': 5395, 'erikmaza': 5396, 'hunkering': 5397, 'hurricane': 5398, 'passes': 5399, 'adolfo': 5400, 'morenos': 5401, 'iamjamiefoxx': 5402, 'hjdd7bjke3': 5403, 'lift': 5404, 'gate': 5405, 'hansnoordsij': 5406, 'hydrogen': 5407, 'fool': 5408, 'sells': 5409, 'suck': 5410, 'akinfermo': 5411, '6k': 5412, 'bet': 5413, 'guillotine': 5414, 'poseurs': 5415, 'drag': 5416, 'cigarette': 5417, 'facebook': 5418, 'stevenbonchev': 5419, 'apompliano': 5420, 'politicians': 5421, 'legislate': 5422, 'wealth': 5423, 'trillionaire': 5424, 'jammed': 5425, 'gills': 5426, 'earmarks': 5427, 'payments': 5428, 'consumers': 5429, 'maximize': 5430, 'happiness': 5431, 'giving': 5432, 'allows': 5433, 'decid\\x85': 5434, 'lwfxhvksjf': 5435, 'reminder': 5436, 'favor': 5437, 'income': 5438, 'panels': 5439, '49': 5440, '5lplhqgazw': 5441, 'competition': 5442, 'ensures': 5443, 'pubg': 5444, 'universalpics': 5445, 'tomcruise': 5446, 'revolutionary': 5447, 'actuaries': 5448, 'insurance': 5449, 'inquire': 5450, 'interested': 5451, 'performed': 5452, 'habitability': 5453, 'assessment': 5454, 'drago\\x85': 5455, 'retail': 5456, 'investors': 5457, 'remarkably': 5458, 'insightful': 5459, 'boost': 5460, 'volumetrically': 5461, 'constrained': 5462, 'h2': 5463, 'soviet': 5464, 'ch4\\x85': 5465, 'alewbz8nfl': 5466, 'pixel': 5467, 'ludalisl': 5468, 'emphasize': 5469, 'tomosman': 5470, 'internetofshit': 5471, 'oven': 5472, 'keeps': 5473, 'wifi': 5474, 'password': 5475, 'tianwen': 5476, 'fsya3i0hru': 5477, 'jmkacbrb5d': 5478, 'omgrofloljk': 5479, 'o5fbbtan1s': 5480, 'individualized': 5481, 'transit': 5482, 'seated': 5483, '6noglix6b5': 5484, 'overseen': 5485, 'involves': 5486, '0001f43b': 5487, 'kable': 5488, 'buckethat1': 5489, 'stings': 5490, 'teslatrey': 5491, 'finish': 5492, 'upgrading': 5493, '5d': 5494, 'steep': 5495, 'slopes': 5496, 'gaslit': 5497, 'gaslight': 5498, 'loomisp': 5499, 'msnbc': 5500, '11thhour': 5501, 'yztdfzlull': 5502, 'fazeblaze': 5503, 'sri': 5504, 'myneni': 5505, 'considercosmos': 5506, 'constituents': 5507, 'forming': 5508, 'methods': 5509, 'traditional': 5510, 'names': 5511, '304\\x85': 5512, 'fyuuio5dtz': 5513, 'advertising': 5514, 'quality': 5515, 'media': 5516, 'iyhjznzobv': 5517, 'kann': 5518, 'noch': 5519, 'keinen': 5520, 'löffel': 5521, 'benutzen': 5522, 'uetqvia4bp': 5523, 'johnnacrider0': 5524, 'talked': 5525, 'vr': 5526, 'avatars': 5527, 'saying': 5528, 'mentions': 5529, '0001f608': 5530, 'sales': 5531, 'caught': 5532, 'instructions': 5533, 'fpbckyfysh': 5534, 'degree': 5535, 'nasahqphoto': 5536, '1oltpnw929': 5537, 'alpha': 5538, 'found': 5539, 'nishy03': 5540, 'uae': 5541, 'bar2': 5542, 'joebangles11': 5543, 'stilton': 5544, 'crimson': 5545, 'latitudes': 5546, 'confiant': 5547, 'born': 5548, 'myself': 5549, '2012': 5550, 'sn28': 5551, 'mrutle8y2v': 5552, \"tesla's\": 5553, 'organizations': 5554, 'america': 5555, 'nb92\\x85': 5556, 'wed': 5557, 'earnings': 5558, 'howard8': 5559, 'maxxrpbtc': 5560, 'thecryptolark': 5561, 'manny6manny': 5562, 'jungleincxrp': 5563, 'digitalassetbuy': 5564, 'moonlamboio': 5565, 'jwilliamsfstmed': 5566, 'i\\x85': 5567, 'anite06dlj': 5568, 'manufactured': 5569, 'lax': 5570, 'contribute': 5571, 'chromosome': 5572, 'mitochondria': 5573, 'constant': 5574, 'mutations': 5575, 'bwillofficial': 5576, 'automated': 5577, 'ultimately': 5578, 'fermi': 5579, 'questions': 5580, 'ask': 5581, 'vr7thokncp': 5582, 'bde': 5583, 'hulk': 5584, 'loses': 5585, 'pants': 5586, 'neuroscience': 5587, 'electrical': 5588, 'electronic': 5589, 'vmq2atdv5d': 5590, 'july': 5591, 'slc': 5592, 'solving': 5593, 'reliability': 5594, 'valued': 5595, 'sealing': 5596, 'inductive': 5597, 'charging': 5598, 'mgmt': 5599, 'rq3awmzxvo': 5600, 'serhatserhatst': 5601, 'summarizes': 5602, 'biz': 5603, 'ebknqm6qyf': 5604, 'izzynobre': 5605, 'excuse': 5606, 'algorithms': 5607, 'negativity': 5608, 'bias': 5609, 'modelyendofice': 5610, 'hustle': 5611, 'lewismartin': 5612, 'zikryzamir': 5613, 'carefully': 5614, 'hidden': 5615, 'indoor': 5616, 'uxqmuvtwxf': 5617, 'pontolemaeus': 5618, 'silverdegeneral': 5619, 'retirees': 5620, 'qivas5gtpc': 5621, 'vincentdiong': 5622, 'considering': 5623, 'latch': 5624, 'ethernet': 5625, 'obtrusive': 5626, 'xxrxfrqhbs': 5627, '\\x93money\\x94': 5628, 'lossy': 5629, 'unsecure': 5630, 'database': 5631, 'allocati\\x85': 5632, '5vcgj8o31r': 5633, 'nnalinas': 5634, 'example': 5635, 'collapse': 5636, '2nd': 5637, 'minute': 5638, 'q1vvqvmj2i': 5639, 'orient': 5640, 'optimal': 5641, 'angle': 5642, 'expert': 5643, 'installer': 5644, 'xndtxrdnl2': 5645, 'niksanae': 5646, '0001f914': 5647, 'beck\\x85': 5648, 'irmxfy991y': 5649, 'teslaaircraft': 5650, 'autobahn': 5651, 'strength': 5652, 'perseverance': 5653, 'despite': 5654, 'facing': 5655, 'difficulties': 5656, 'playable': 5657, 'efficiencylast': 5658, 'accura\\x85': 5659, 'ltqh2vulgc': 5660, 'davidtayar5': 5661, 'teslalisa': 5662, 'stevehamel16': 5663, 'padival': 5664, 'barkmsmeagol': 5665, 'annerajb': 5666, 'wpipperger': 5667, 'ecoheliguy': 5668, 'katlinegrey': 5669, 'airplane': 5670, 'wfnfst3c5y': 5671, 'spaceflightnow': 5672, 'extra': 5673, 'paranoid': 5674, 'maximizing': 5675, 'paramount': 5676, 'summergamefest': 5677, 'anytime': 5678, 'bradyleonard': 5679, 'sustainability': 5680, 'teslatn': 5681, 'dollyparton': 5682, 'plan': 5683, 'jzxsr4h8vs': 5684, 'chrisjcav': 5685, 'extreme\\x85': 5686, 'fs0pmcioic': 5687, 'reduced': 5688, 'pricing': 5689, 'moto\\x85': 5690, 'fbhkiihsc3': 5691, '250kw': 5692, 'unacceptably': 5693, '250': 5694, 'epa': 5695, 'thicknesses': 5696, 'resistive': 5697, 'tcivzvc5ra': 5698, 'stevenmarkryan\\x85': 5699, 'iu3lmuqes5': 5700, 'da2': 5701, 'da1': 5702, 'sequels': 5703, 'oprahside': 5704, '6f': 5705, '1mqxfakpzf': 5706, 'korolev\\x92s': 5707, 'family': 5708, '044c': 5709, '0451': 5710, 'ali': 5711, 'afshari': 5712, 'podcasts': 5713, 'optimoprincipi': 5714, 'spqr': 5715, 'gvfc9m3bhz': 5716, 'djzinc': 5717, 'death': 5718, 'earning': 5719, 'augmentation': 5720, 'that\\x92\\x85': 5721, 'bpzwersoys': 5722, 'teslaparatodos': 5723, 'mjkapkan': 5724, 'bnd': 5725, 'scr00chy': 5726, 'automotive': 5727, 'burakaydik': 5728, 'ihop': 5729, 'github': 5730, '\\x93full': 5731, 'stack\\x94': 5732, 'terrifying': 5733, 'sensed': 5734, 'been\\x85': 5735, 'b3zxd384qd': 5736, 'redmercy': 5737, 'buzzindelhi': 5738, 'payout': 5739, 'vesting': 5740, '8zg37stxt9': 5741, 'answer': 5742, 'tweet': 5743, 'dire': 5744, 'priority': 5745, 'surreal': 5746, 'propaganda': 5747, 'social': 5748, 'wjrzibkh1h': 5749, 'terms': 5750, 'conditions': 5751, 'clicking': 5752, 'accept': 5753, 'samwise': 5754, 'gamgee': 5755, 'altho': 5756}\n"
     ]
    }
   ],
   "source": [
    "print(tokenizer.word_index)"
   ]
  },
  {
   "cell_type": "code",
   "execution_count": 10,
   "id": "d589adb2",
   "metadata": {},
   "outputs": [
    {
     "name": "stdout",
     "output_type": "stream",
     "text": [
      "@ID_AA_Carmack Ray tracing on Cyberpunk with HDR is next-level. Have you tried it?\n",
      "[96, 97, 98, 2097, 2098, 21, 637, 28, 2099, 6, 106, 379, 37, 31, 535, 19]\n"
     ]
    }
   ],
   "source": [
    "print(Elon_musk [1])\n",
    "print(encoded_docs[1])"
   ]
  },
  {
   "cell_type": "code",
   "execution_count": 11,
   "id": "1cad7722",
   "metadata": {},
   "outputs": [
    {
     "name": "stdout",
     "output_type": "stream",
     "text": [
      "[   0    0    0    0    0    0    0    0    0    0    0    0    0    0\n",
      "    0    0    0    0    0    0    0    0    0    0    0    0    0    0\n",
      "    0    0    0    0    0    0    0    0    0    0    0    0    0    0\n",
      "    0    0    0    0    0    0    0    0    0    0    0    0    0    0\n",
      "    0    0    0    0    0    0    0    0    0    0    0    0    0    0\n",
      "    0    0    0    0    0    0    0    0    0    0    0    0    0    0\n",
      "    0    0    0    0    0    0    0    0    0    0    0    0    0    0\n",
      "    0    0    0    0    0    0    0    0    0    0    0    0    0    0\n",
      "    0    0    0    0    0    0    0    0    0    0    0    0    0    0\n",
      "    0    0    0    0    0    0    0    0    0    0    0    0    0    0\n",
      "    0    0    0    0    0    0    0    0    0    0    0    0    0    0\n",
      "    0    0    0    0    0    0    0    0    0    0    0    0    0    0\n",
      "    0    0    0    0    0    0    0    0    0    0    0    0    0    0\n",
      "    0    0   96   97   98 2097 2098   21  637   28 2099    6  106  379\n",
      "   37   31  535   19]\n"
     ]
    }
   ],
   "source": [
    "print(padded_sequence[1])"
   ]
  },
  {
   "cell_type": "code",
   "execution_count": 12,
   "id": "d66bb9bf",
   "metadata": {},
   "outputs": [
    {
     "name": "stdout",
     "output_type": "stream",
     "text": [
      "WARNING:tensorflow:From C:\\Users\\shiva\\anaconda3\\Lib\\site-packages\\keras\\src\\backend.py:873: The name tf.get_default_graph is deprecated. Please use tf.compat.v1.get_default_graph instead.\n",
      "\n",
      "WARNING:tensorflow:From C:\\Users\\shiva\\anaconda3\\Lib\\site-packages\\keras\\src\\optimizers\\__init__.py:309: The name tf.train.Optimizer is deprecated. Please use tf.compat.v1.train.Optimizer instead.\n",
      "\n",
      "Model: \"sequential\"\n",
      "_________________________________________________________________\n",
      " Layer (type)                Output Shape              Param #   \n",
      "=================================================================\n",
      " embedding (Embedding)       (None, 200, 32)           184224    \n",
      "                                                                 \n",
      " spatial_dropout1d (Spatial  (None, 200, 32)           0         \n",
      " Dropout1D)                                                      \n",
      "                                                                 \n",
      " lstm (LSTM)                 (None, 50)                16600     \n",
      "                                                                 \n",
      " dropout (Dropout)           (None, 50)                0         \n",
      "                                                                 \n",
      " dense (Dense)               (None, 1)                 51        \n",
      "                                                                 \n",
      "=================================================================\n",
      "Total params: 200875 (784.67 KB)\n",
      "Trainable params: 200875 (784.67 KB)\n",
      "Non-trainable params: 0 (0.00 Byte)\n",
      "_________________________________________________________________\n",
      "None\n"
     ]
    }
   ],
   "source": [
    "embedding_vector_length = 32\n",
    "model = Sequential() \n",
    "\n",
    "model.add(Embedding(vocab_size, embedding_vector_length, input_length=200) )\n",
    "\n",
    "model.add(SpatialDropout1D(0.25))\n",
    "\n",
    "model.add(LSTM(50, dropout=0.5, recurrent_dropout=0.5))\n",
    "\n",
    "model.add(Dropout(0.2))\n",
    "\n",
    "model.add(Dense(1, activation='sigmoid')) \n",
    "\n",
    "model.compile(loss='binary_crossentropy',optimizer='adam', metrics=['accuracy'])  \n",
    "print(model.summary()) "
   ]
  },
  {
   "cell_type": "code",
   "execution_count": 13,
   "id": "eaf3c84b",
   "metadata": {},
   "outputs": [
    {
     "name": "stdout",
     "output_type": "stream",
     "text": [
      "Epoch 1/5\n",
      "WARNING:tensorflow:From C:\\Users\\shiva\\anaconda3\\Lib\\site-packages\\keras\\src\\utils\\tf_utils.py:492: The name tf.ragged.RaggedTensorValue is deprecated. Please use tf.compat.v1.ragged.RaggedTensorValue instead.\n",
      "\n",
      "WARNING:tensorflow:From C:\\Users\\shiva\\anaconda3\\Lib\\site-packages\\keras\\src\\engine\\base_layer_utils.py:384: The name tf.executing_eagerly_outside_functions is deprecated. Please use tf.compat.v1.executing_eagerly_outside_functions instead.\n",
      "\n",
      "50/50 [==============================] - 24s 282ms/step - loss: -2978.0850 - accuracy: 6.2539e-04 - val_loss: -14723.0498 - val_accuracy: 0.0000e+00\n",
      "Epoch 2/5\n",
      "50/50 [==============================] - 12s 232ms/step - loss: -8273.6289 - accuracy: 6.2539e-04 - val_loss: -22381.9375 - val_accuracy: 0.0000e+00\n",
      "Epoch 3/5\n",
      "50/50 [==============================] - 11s 221ms/step - loss: -11066.2969 - accuracy: 6.2539e-04 - val_loss: -27908.3750 - val_accuracy: 0.0000e+00\n",
      "Epoch 4/5\n",
      "50/50 [==============================] - 11s 227ms/step - loss: -13432.0322 - accuracy: 6.2539e-04 - val_loss: -32984.8359 - val_accuracy: 0.0000e+00\n",
      "Epoch 5/5\n",
      "50/50 [==============================] - 11s 226ms/step - loss: -15701.7295 - accuracy: 6.2539e-04 - val_loss: -38100.9258 - val_accuracy: 0.0000e+00\n"
     ]
    }
   ],
   "source": [
    "history = model.fit(padded_sequence,sentiment_label[0],validation_split=0.2, epochs=5, batch_size=32)"
   ]
  },
  {
   "cell_type": "code",
   "execution_count": 14,
   "id": "4ecd2756",
   "metadata": {},
   "outputs": [
    {
     "data": {
      "image/png": "[encoded data removed]",
      "text/plain": [
       "<Figure size 640x480 with 1 Axes>"
      ]
     },
     "metadata": {},
     "output_type": "display_data"
    }
   ],
   "source": [
    "import matplotlib.pyplot as plt\n",
    "plt.plot(history.history['accuracy'], label='train_acc')\n",
    "plt.plot(history.history['val_accuracy'], label='validation_acc')\n",
    "plt.legend()\n",
    "plt.savefig(\"Accuracy plot.png\")"
   ]
  },
  {
   "cell_type": "code",
   "execution_count": 15,
   "id": "1f5a1096",
   "metadata": {},
   "outputs": [
    {
     "data": {
      "image/png": "[encoded data removed]",
      "text/plain": [
       "<Figure size 640x480 with 1 Axes>"
      ]
     },
     "metadata": {},
     "output_type": "display_data"
    }
   ],
   "source": [
    "plt.plot(history.history['loss'], label='loss')\n",
    "plt.plot(history.history['val_loss'], label='val_loss')\n",
    "plt.legend()\n",
    "plt.savefig(\"Loss plot.png\")"
   ]
  },
  {
   "cell_type": "code",
   "execution_count": 16,
   "id": "b02f86cd",
   "metadata": {},
   "outputs": [],
   "source": [
    "def predict_sentiment(Text):\n",
    "    tw = tokenizer.texts_to_sequences([Text])\n",
    "    tw = pad_sequences(tw,maxlen=200)\n",
    "    prediction = int(model.predict(tw).round().item())\n",
    "    print(\"Predicted label: \", sentiment_label[1][prediction])"
   ]
  },
  {
   "cell_type": "code",
   "execution_count": 17,
   "id": "7ebd590f",
   "metadata": {},
   "outputs": [
    {
     "name": "stdout",
     "output_type": "stream",
     "text": [
      "1/1 [==============================] - 2s 2s/step\n",
      "Predicted label:  @ID_AA_Carmack Ray tracing on Cyberpunk with HDR is next-level. Have you tried it?\n"
     ]
    }
   ],
   "source": [
    "test_sentence_1= 'i have littel worried about interview'\n",
    "predict_sentiment(test_sentence_1)"
   ]
  },
  {
   "cell_type": "code",
   "execution_count": 18,
   "id": "2d5daace",
   "metadata": {},
   "outputs": [
    {
     "name": "stdout",
     "output_type": "stream",
     "text": [
      "Requirement already satisfied: textblob in c:\\users\\shiva\\anaconda3\\lib\\site-packages (0.17.1)\n",
      "Requirement already satisfied: nltk>=3.1 in c:\\users\\shiva\\anaconda3\\lib\\site-packages (from textblob) (3.8.1)\n",
      "Requirement already satisfied: click in c:\\users\\shiva\\anaconda3\\lib\\site-packages (from nltk>=3.1->textblob) (8.0.4)\n",
      "Requirement already satisfied: joblib in c:\\users\\shiva\\anaconda3\\lib\\site-packages (from nltk>=3.1->textblob) (1.2.0)\n",
      "Requirement already satisfied: regex>=2021.8.3 in c:\\users\\shiva\\anaconda3\\lib\\site-packages (from nltk>=3.1->textblob) (2022.7.9)\n",
      "Requirement already satisfied: tqdm in c:\\users\\shiva\\anaconda3\\lib\\site-packages (from nltk>=3.1->textblob) (4.65.0)\n",
      "Requirement already satisfied: colorama in c:\\users\\shiva\\anaconda3\\lib\\site-packages (from click->nltk>=3.1->textblob) (0.4.6)\n"
     ]
    }
   ],
   "source": [
    "!pip install textblob"
   ]
  },
  {
   "cell_type": "code",
   "execution_count": 19,
   "id": "5e88a37c",
   "metadata": {},
   "outputs": [
    {
     "name": "stdout",
     "output_type": "stream",
     "text": [
      "                                                   Text  Sentiment\n",
      "0                                @kunalb11 Im an alien  -0.250000\n",
      "1     @ID_AA_Carmack Ray tracing on Cyberpunk with H...   0.000000\n",
      "2                   @joerogan @Spotify Great interview!   1.000000\n",
      "3                       @gtera27 Doge is underestimated   0.000000\n",
      "4     @teslacn Congratulations Tesla China for amazi...   0.345313\n",
      "...                                                 ...        ...\n",
      "1994  @flcnhvy True, it sounds so surreal, but the n...   0.111111\n",
      "1995  @PPathole Make sure to read ur terms &amp; con...   0.625000\n",
      "1996                @TeslaGong @PPathole Samwise Gamgee   0.000000\n",
      "1997  @PPathole Altho Dumb and Dumber is <U+0001F525...  -0.375000\n",
      "1998                          Progress update August 28   0.000000\n",
      "\n",
      "[1999 rows x 2 columns]\n"
     ]
    }
   ],
   "source": [
    "import pandas as pd\n",
    "from textblob import TextBlob\n",
    "\n",
    "text_column = 'Text'\n",
    "\n",
    "def get_sentiment(text):\n",
    "    analysis = TextBlob(text)\n",
    "    return analysis.sentiment.polarity\n",
    "\n",
    "# Apply sentiment analysis to row in DataFrame\n",
    "df['Sentiment'] = df[text_column].apply(get_sentiment)\n",
    "print(df[['Text', 'Sentiment']])"
   ]
  },
  {
   "cell_type": "code",
   "execution_count": 20,
   "id": "0e14d3f4",
   "metadata": {},
   "outputs": [
    {
     "name": "stdout",
     "output_type": "stream",
     "text": [
      "Sentiment Polarity: 0.0\n",
      "Neutral sentiment\n",
      "Neutral sentiment\n"
     ]
    }
   ],
   "source": [
    "text = 'Progress update August 28'\n",
    "\n",
    "analysis = TextBlob(text)\n",
    "\n",
    "#sentiment polarity(-1 is negative, 0 is neutral,1 is positive)\n",
    "sentiment_polarity = analysis.sentiment.polarity\n",
    "print(f\"Sentiment Polarity: {sentiment_polarity}\")\n",
    "\n",
    "for i in range(-1,1):\n",
    "    if sentiment_polarity > 0:\n",
    "        print(\"Positive sentiment\")\n",
    "    elif sentiment_polarity < 0:\n",
    "        print(\"Negative sentiment\")\n",
    "    else:\n",
    "        print(\"Neutral sentiment\")"
   ]
  },
  {
   "cell_type": "markdown",
   "id": "9c427d5d",
   "metadata": {},
   "source": [
    "# q2"
   ]
  },
  {
   "cell_type": "code",
   "execution_count": 21,
   "id": "acc410f4",
   "metadata": {},
   "outputs": [
    {
     "name": "stdout",
     "output_type": "stream",
     "text": [
      "Requirement already satisfied: autoscraper in c:\\users\\shiva\\anaconda3\\lib\\site-packages (1.1.14)\n",
      "Requirement already satisfied: requests in c:\\users\\shiva\\anaconda3\\lib\\site-packages (from autoscraper) (2.31.0)\n",
      "Requirement already satisfied: bs4 in c:\\users\\shiva\\anaconda3\\lib\\site-packages (from autoscraper) (0.0.1)\n",
      "Requirement already satisfied: lxml in c:\\users\\shiva\\anaconda3\\lib\\site-packages (from autoscraper) (4.9.3)\n",
      "Requirement already satisfied: beautifulsoup4 in c:\\users\\shiva\\anaconda3\\lib\\site-packages (from bs4->autoscraper) (4.12.2)\n",
      "Requirement already satisfied: charset-normalizer<4,>=2 in c:\\users\\shiva\\anaconda3\\lib\\site-packages (from requests->autoscraper) (2.0.4)\n",
      "Requirement already satisfied: idna<4,>=2.5 in c:\\users\\shiva\\anaconda3\\lib\\site-packages (from requests->autoscraper) (3.4)\n",
      "Requirement already satisfied: urllib3<3,>=1.21.1 in c:\\users\\shiva\\anaconda3\\lib\\site-packages (from requests->autoscraper) (1.26.16)\n",
      "Requirement already satisfied: certifi>=2017.4.17 in c:\\users\\shiva\\anaconda3\\lib\\site-packages (from requests->autoscraper) (2023.11.17)\n",
      "Requirement already satisfied: soupsieve>1.2 in c:\\users\\shiva\\anaconda3\\lib\\site-packages (from beautifulsoup4->bs4->autoscraper) (2.4)\n"
     ]
    }
   ],
   "source": [
    "!pip install autoscraper"
   ]
  },
  {
   "cell_type": "code",
   "execution_count": 22,
   "id": "e9e2b824",
   "metadata": {},
   "outputs": [],
   "source": [
    "from autoscraper import AutoScraper"
   ]
  },
  {
   "cell_type": "code",
   "execution_count": 23,
   "id": "7967862a",
   "metadata": {},
   "outputs": [],
   "source": [
    "amazon_url = 'https://www.flipkart.com/roadster-full-sleeve-color-block-men-sweatshirt'\n",
    "\n",
    "wanted_list = ['₹722','Men Full Sleeve Color Block Sweatshirt','128 ratings and 7 reviews']"
   ]
  },
  {
   "cell_type": "code",
   "execution_count": 24,
   "id": "5b60818f",
   "metadata": {},
   "outputs": [
    {
     "name": "stdout",
     "output_type": "stream",
     "text": [
      "[]\n"
     ]
    }
   ],
   "source": [
    "scraper=AutoScraper()\n",
    "result=scraper.build(amazon_url,wanted_list)\n",
    "print(result)"
   ]
  },
  {
   "cell_type": "code",
   "execution_count": 25,
   "id": "7f812b6d",
   "metadata": {},
   "outputs": [
    {
     "name": "stdout",
     "output_type": "stream",
     "text": [
      "Review: perfect size and perfect fitting for me.Absolutely amazing sweat shirt.\n",
      "Sentiment: positive\n",
      "\n",
      "\n"
     ]
    }
   ],
   "source": [
    "from textblob import TextBlob\n",
    "\n",
    "reviews = ['perfect size and perfect fitting for me.Absolutely amazing sweat shirt.']\n",
    "\n",
    "sentiments = [TextBlob(review).sentiment.polarity for review in reviews]\n",
    "\n",
    "classified_sentiments = ['positive' if s > 0 else 'negative' if s < 0 else 'neutral' for s in sentiments]\n",
    "\n",
    "# Print results\n",
    "for review, sentiment in zip(reviews, classified_sentiments):\n",
    "    print(f\"Review: {review}\")\n",
    "    print(f\"Sentiment: {sentiment}\")\n",
    "    print(\"\\n\")"
   ]
  },
  {
   "cell_type": "code",
   "execution_count": 27,
   "id": "891dbe8f",
   "metadata": {},
   "outputs": [
    {
     "name": "stdout",
     "output_type": "stream",
     "text": [
      "Sentiment: 0.775\n",
      "Emotion: Positive\n"
     ]
    }
   ],
   "source": [
    "review = \"perfect size and perfect fitting for me. Absolutely amazing sweatshirt.\"\n",
    "\n",
    "analysis = TextBlob(review)\n",
    "sentiment = analysis.sentiment.polarity\n",
    "\n",
    "print(\"Sentiment:\", sentiment)\n",
    "if sentiment > 0:\n",
    "    print(\"Emotion: Positive\")\n",
    "elif sentiment < 0:\n",
    "    print(\"Emotion: Negative\")\n",
    "else:\n",
    "    print(\"Emotion: Neutral\")\n"
   ]
  },
  {
   "cell_type": "code",
   "execution_count": null,
   "id": "2dc39507",
   "metadata": {},
   "outputs": [],
   "source": []
  }
 ],
 "metadata": {
  "kernelspec": {
   "display_name": "Python 3 (ipykernel)",
   "language": "python",
   "name": "python3"
  },
  "language_info": {
   "codemirror_mode": {
    "name": "ipython",
    "version": 3
   },
   "file_extension": ".py",
   "mimetype": "text/x-python",
   "name": "python",
   "nbconvert_exporter": "python",
   "pygments_lexer": "ipython3",
   "version": "3.11.5"
  }
 },
 "nbformat": 4,
 "nbformat_minor": 5
}
